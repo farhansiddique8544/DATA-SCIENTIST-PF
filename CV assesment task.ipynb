{
 "cells": [
  {
   "cell_type": "code",
   "execution_count": null,
   "id": "efb857d4",
   "metadata": {},
   "outputs": [],
   "source": [
    "import json\n",
    "vgg_file = 'C:/Users/Dell/Downloads/cat_dog_annotations.json'\n",
    "with open(vgg_file, 'r') as f:\n",
    "    vgg_data = json.load(f)\n",
    "\n",
    "coco_data = {}\n",
    "coco_data['images'] = []\n",
    "coco_data['annotations'] = []\n",
    "coco_data['categories'] = []\n",
    "\n",
    "# Define category IDs\n",
    "category_map = {}\n",
    "category_id = 1\n",
    "\n",
    "for image_id, image_data in vgg_data['_via_img_metadata'].items():\n",
    "    # Add image data to COCO data\n",
    "    image_info = {\n",
    "        'id' : image_id + 1,\n",
    "        'filename' : image_data['filename'],\n",
    "        'width': image_data['size']['width'],\n",
    "        'height': image_data['size']['height']\n",
    "    }\n",
    "    coco_data['images'].append(image_info)\n",
    "\n",
    "    # Loop through annotations for this image\n",
    "    for annotation_data in image_data['regions']:\n",
    "        # Add category if necessary\n",
    "        category_name = annotation_data['region_attributes']['class']\n",
    "        if category_name not in category_map:\n",
    "            category_info = {\n",
    "                'id': category_id,\n",
    "                'name': category_name\n",
    "            }\n",
    "            coco_data['categories'].append(category_info)\n",
    "            category_map[category_name] = category_id\n",
    "            category_id += 1\n",
    "\n",
    "        # Add annotation data to COCO data\n",
    "        annotation_info = {\n",
    "            'id': len(coco_data['annotations']) + 1,\n",
    "            'image_id': image_id + 1,\n",
    "            'category_id': category_map[category_name],\n",
    "            'bbox': [\n",
    "                annotation_data['shape_attributes']['x'],\n",
    "                annotation_data['shape_attributes']['y'],\n",
    "                annotation_data['shape_attributes']['width'],\n",
    "                annotation_data['shape_attributes']['height']\n",
    "            ],\n",
    "            'area': annotation_data['shape_attributes']['width'] * annotation_data['shape_attributes']['height'],\n",
    "            'iscrowd': 0\n",
    "        }\n",
    "        coco_data['annotations'].append(annotation_info)\n",
    "\n",
    "# 3. Save COCO formatted annotations to file\n",
    "coco_file = 'C:/Users/Dell/Downloads/coco_file'\n",
    "\n",
    "with open(coco_file, 'w') as f:\n",
    "    json.dump(coco_data, f)\n"
   ]
  },
  {
   "cell_type": "markdown",
   "id": "583644e0",
   "metadata": {},
   "source": [
    "# 2. Load that image"
   ]
  },
  {
   "cell_type": "code",
   "execution_count": null,
   "id": "30d430da",
   "metadata": {},
   "outputs": [],
   "source": [
    "import json\n",
    "from pycocotools.coco import COCO\n",
    "import random\n",
    "from PIL import Image, ImageEnhance, ImageOps\n",
    "import numpy as np\n",
    "\n",
    "\n",
    "vgg_file = 'C:/Users/Dell/Downloads/coco_file'\n",
    "image_path = 'C:/Users/Dell/Downloads/cat_dog_images'\n",
    "\n",
    "with open(vgg_file, 'r') as f:\n",
    "    vgg_data = json.load(f)\n",
    "\n",
    "image_data = vgg_data[image_path]\n",
    "\n",
    "# 2. Load the image\n",
    "image = Image.open(image_path)"
   ]
  },
  {
   "cell_type": "markdown",
   "id": "acebcbee",
   "metadata": {},
   "source": [
    "# 3. Resize the image"
   ]
  },
  {
   "cell_type": "code",
   "execution_count": null,
   "id": "e9c25ac5",
   "metadata": {},
   "outputs": [],
   "source": [
    "resize_scale = random.uniform(0.6, 1.0)\n",
    "new_width = int(image.width * resize_scale)\n",
    "new_height = int(image.height * resize_scale)\n",
    "resized_image = image.resize((new_width, new_height))\n",
    "\n",
    "# Adjust bounding boxes according to new size\n",
    "for annotation_data in image_data['regions']:\n",
    "    annotation_data['shape_attributes']['x'] *= resize_scale\n",
    "    annotation_data['shape_attributes']['y'] *= resize_scale\n",
    "    annotation_data['shape_attributes']['width'] *= resize_scale\n",
    "    annotation_data['shape_attributes']['height'] *= resize_scale"
   ]
  },
  {
   "cell_type": "markdown",
   "id": "50219421",
   "metadata": {},
   "source": [
    "# 4. Add random brightness to the resized image"
   ]
  },
  {
   "cell_type": "code",
   "execution_count": null,
   "id": "2f603284",
   "metadata": {},
   "outputs": [],
   "source": [
    "brightness_factor = random.uniform(0.7, 1.3)\n",
    "enhancer = ImageEnhance.Brightness(resized_image)\n",
    "brightened_image = enhancer.enhance(brightness_factor)"
   ]
  },
  {
   "cell_type": "markdown",
   "id": "92c6d73c",
   "metadata": {},
   "source": [
    "# 5. Rotate the brighter image"
   ]
  },
  {
   "cell_type": "code",
   "execution_count": null,
   "id": "18921094",
   "metadata": {},
   "outputs": [],
   "source": [
    "rotation_angle = random.uniform(0, 360)\n",
    "rotated_image = brightened_image.rotate(rotation_angle, resample=Image.BICUBIC, expand=True)\n",
    "\n",
    "# Adjust bounding boxes according to rotation\n",
    "for annotation_data in image_data['regions']:\n",
    "    x, y, w, h = annotation_data['shape_attributes']['x'], annotation_data['shape_attributes']['y'], annotation_data['shape_attributes']['width'], annotation_data['shape_attributes']['height']\n",
    "    corners = np.array([[x,y], [x+w,y], [x+w,y+h], [x,y+h]])\n",
    "    center = np.array([x + w / 2, y + h / 2])\n",
    "    rotation_matrix = np.array([[np.cos(rotation_angle), -np.sin(rotation_angle)], [np.sin(rotation_angle), np.cos(rotation_angle)]])\n",
    "    new_corners = (np.matmul((corners - center), rotation_matrix) + center).tolist()\n",
    "    new_x = min([corner[0] for corner in new_corners])\n",
    "    new_y = min([corner[1] for corner in new_corners])\n",
    "    new_w = max([corner[0] for corner in new_corners]) - new_x\n",
    "    new_h = max([corner[1] for corner in new_corners]) - new_y\n",
    "    annotation_data['shape_attributes']['x'] = new_x\n",
    "    annotation_data['shape_attributes']['y'] = new_y\n",
    "    annotation_data['shape_attributes']['width'] = new_w\n",
    "    annotation_data['shape_attributes']['height'] = new_h\n"
   ]
  },
  {
   "cell_type": "markdown",
   "id": "bb621d60",
   "metadata": {},
   "source": [
    "# 6. Save the resulting image on disk"
   ]
  },
  {
   "cell_type": "code",
   "execution_count": null,
   "id": "8fb89d78",
   "metadata": {},
   "outputs": [],
   "source": [
    "\n",
    "resulting_image_path = 'path/to/save/resulting/image'\n",
    "rotated_image.save(resulting_image_path)\n",
    "\n",
    "# You can also save the updated VGG data as a new JSON file if you want to use it for training later\n",
    "updated_vgg_file = 'path/to/save/updated/vgg/file'\n",
    "with open(updated_vgg_file, 'w') as f:\n",
    "    json.dump(vgg_data, f)"
   ]
  }
 ],
 "metadata": {
  "kernelspec": {
   "display_name": "Python 3 (ipykernel)",
   "language": "python",
   "name": "python3"
  },
  "language_info": {
   "codemirror_mode": {
    "name": "ipython",
    "version": 3
   },
   "file_extension": ".py",
   "mimetype": "text/x-python",
   "name": "python",
   "nbconvert_exporter": "python",
   "pygments_lexer": "ipython3",
   "version": "3.9.7"
  }
 },
 "nbformat": 4,
 "nbformat_minor": 5
}
