{
 "cells": [
  {
   "cell_type": "code",
   "execution_count": 1,
   "id": "7965e102",
   "metadata": {},
   "outputs": [],
   "source": [
    "import pandas as pd \n",
    "import numpy as np"
   ]
  },
  {
   "cell_type": "code",
   "execution_count": 2,
   "id": "82cea1e6",
   "metadata": {},
   "outputs": [
    {
     "data": {
      "text/html": [
       "<div>\n",
       "<style scoped>\n",
       "    .dataframe tbody tr th:only-of-type {\n",
       "        vertical-align: middle;\n",
       "    }\n",
       "\n",
       "    .dataframe tbody tr th {\n",
       "        vertical-align: top;\n",
       "    }\n",
       "\n",
       "    .dataframe thead th {\n",
       "        text-align: right;\n",
       "    }\n",
       "</style>\n",
       "<table border=\"1\" class=\"dataframe\">\n",
       "  <thead>\n",
       "    <tr style=\"text-align: right;\">\n",
       "      <th></th>\n",
       "      <th>Emp ID</th>\n",
       "      <th>Name Prefix</th>\n",
       "      <th>First Name</th>\n",
       "      <th>Middle Initial</th>\n",
       "      <th>Last Name</th>\n",
       "      <th>Gender</th>\n",
       "      <th>E Mail</th>\n",
       "      <th>Father's Name</th>\n",
       "      <th>Mother's Name</th>\n",
       "      <th>Mother's Maiden Name</th>\n",
       "      <th>...</th>\n",
       "      <th>SSN</th>\n",
       "      <th>Phone No.</th>\n",
       "      <th>Place Name</th>\n",
       "      <th>County</th>\n",
       "      <th>City</th>\n",
       "      <th>State</th>\n",
       "      <th>Zip</th>\n",
       "      <th>Region</th>\n",
       "      <th>User Name</th>\n",
       "      <th>Password</th>\n",
       "    </tr>\n",
       "  </thead>\n",
       "  <tbody>\n",
       "    <tr>\n",
       "      <th>0</th>\n",
       "      <td>850297</td>\n",
       "      <td>Ms.</td>\n",
       "      <td>Shawna</td>\n",
       "      <td>W</td>\n",
       "      <td>Buck</td>\n",
       "      <td>F</td>\n",
       "      <td>shawna.buck@gmail.com</td>\n",
       "      <td>Rosario Buck</td>\n",
       "      <td>Keisha Buck</td>\n",
       "      <td>Hendricks</td>\n",
       "      <td>...</td>\n",
       "      <td>222-11-7603</td>\n",
       "      <td>702-771-7149</td>\n",
       "      <td>Las Vegas</td>\n",
       "      <td>Clark</td>\n",
       "      <td>Las Vegas</td>\n",
       "      <td>NV</td>\n",
       "      <td>89128</td>\n",
       "      <td>West</td>\n",
       "      <td>swbuck</td>\n",
       "      <td>ja8?k3BTF^]o@&lt;&amp;</td>\n",
       "    </tr>\n",
       "    <tr>\n",
       "      <th>1</th>\n",
       "      <td>304721</td>\n",
       "      <td>Mr.</td>\n",
       "      <td>Nathaniel</td>\n",
       "      <td>Z</td>\n",
       "      <td>Burke</td>\n",
       "      <td>M</td>\n",
       "      <td>nathaniel.burke@walmart.com</td>\n",
       "      <td>Derrick Burke</td>\n",
       "      <td>Phoebe Burke</td>\n",
       "      <td>Pugh</td>\n",
       "      <td>...</td>\n",
       "      <td>550-99-9897</td>\n",
       "      <td>231-765-6923</td>\n",
       "      <td>Irons</td>\n",
       "      <td>Lake</td>\n",
       "      <td>Irons</td>\n",
       "      <td>MI</td>\n",
       "      <td>49644</td>\n",
       "      <td>Midwest</td>\n",
       "      <td>nzburke</td>\n",
       "      <td>tPA@4Wh9Ja$+Ln</td>\n",
       "    </tr>\n",
       "    <tr>\n",
       "      <th>2</th>\n",
       "      <td>412317</td>\n",
       "      <td>Drs.</td>\n",
       "      <td>Elisabeth</td>\n",
       "      <td>W</td>\n",
       "      <td>Foster</td>\n",
       "      <td>F</td>\n",
       "      <td>elisabeth.foster@gmail.com</td>\n",
       "      <td>Irwin Foster</td>\n",
       "      <td>Janie Foster</td>\n",
       "      <td>Delaney</td>\n",
       "      <td>...</td>\n",
       "      <td>215-91-0004</td>\n",
       "      <td>270-749-4774</td>\n",
       "      <td>Lexington</td>\n",
       "      <td>Fayette</td>\n",
       "      <td>Lexington</td>\n",
       "      <td>KY</td>\n",
       "      <td>40501</td>\n",
       "      <td>South</td>\n",
       "      <td>ewfoster</td>\n",
       "      <td>5D.B4IGNkWJfG&lt;~</td>\n",
       "    </tr>\n",
       "    <tr>\n",
       "      <th>3</th>\n",
       "      <td>621375</td>\n",
       "      <td>Mrs.</td>\n",
       "      <td>Briana</td>\n",
       "      <td>C</td>\n",
       "      <td>Lancaster</td>\n",
       "      <td>F</td>\n",
       "      <td>briana.lancaster@yahoo.com</td>\n",
       "      <td>Jeffrey Lancaster</td>\n",
       "      <td>Shelby Lancaster</td>\n",
       "      <td>Weiss</td>\n",
       "      <td>...</td>\n",
       "      <td>534-71-1053</td>\n",
       "      <td>219-623-8216</td>\n",
       "      <td>Munster</td>\n",
       "      <td>Lake</td>\n",
       "      <td>Munster</td>\n",
       "      <td>IN</td>\n",
       "      <td>46321</td>\n",
       "      <td>Midwest</td>\n",
       "      <td>bclancaster</td>\n",
       "      <td>I%?JDM;pW</td>\n",
       "    </tr>\n",
       "    <tr>\n",
       "      <th>4</th>\n",
       "      <td>787549</td>\n",
       "      <td>Hon.</td>\n",
       "      <td>Estella</td>\n",
       "      <td>L</td>\n",
       "      <td>Potter</td>\n",
       "      <td>F</td>\n",
       "      <td>estella.potter@gmail.com</td>\n",
       "      <td>Booker Potter</td>\n",
       "      <td>Katelyn Potter</td>\n",
       "      <td>Pate</td>\n",
       "      <td>...</td>\n",
       "      <td>644-29-6396</td>\n",
       "      <td>907-677-8486</td>\n",
       "      <td>Fairbanks</td>\n",
       "      <td>Fairbanks North Star</td>\n",
       "      <td>Fairbanks</td>\n",
       "      <td>AK</td>\n",
       "      <td>99709</td>\n",
       "      <td>West</td>\n",
       "      <td>elpotter</td>\n",
       "      <td>j4jkEXfC&amp;Rh</td>\n",
       "    </tr>\n",
       "    <tr>\n",
       "      <th>...</th>\n",
       "      <td>...</td>\n",
       "      <td>...</td>\n",
       "      <td>...</td>\n",
       "      <td>...</td>\n",
       "      <td>...</td>\n",
       "      <td>...</td>\n",
       "      <td>...</td>\n",
       "      <td>...</td>\n",
       "      <td>...</td>\n",
       "      <td>...</td>\n",
       "      <td>...</td>\n",
       "      <td>...</td>\n",
       "      <td>...</td>\n",
       "      <td>...</td>\n",
       "      <td>...</td>\n",
       "      <td>...</td>\n",
       "      <td>...</td>\n",
       "      <td>...</td>\n",
       "      <td>...</td>\n",
       "      <td>...</td>\n",
       "      <td>...</td>\n",
       "    </tr>\n",
       "    <tr>\n",
       "      <th>995</th>\n",
       "      <td>568435</td>\n",
       "      <td>Ms.</td>\n",
       "      <td>Bonnie</td>\n",
       "      <td>K</td>\n",
       "      <td>Baker</td>\n",
       "      <td>F</td>\n",
       "      <td>bonnie.baker@bp.com</td>\n",
       "      <td>Edwardo Baker</td>\n",
       "      <td>Pauline Baker</td>\n",
       "      <td>Robinson</td>\n",
       "      <td>...</td>\n",
       "      <td>064-02-6162</td>\n",
       "      <td>262-696-9171</td>\n",
       "      <td>Mukwonago</td>\n",
       "      <td>Waukesha</td>\n",
       "      <td>Mukwonago</td>\n",
       "      <td>WI</td>\n",
       "      <td>53149</td>\n",
       "      <td>Midwest</td>\n",
       "      <td>bkbaker</td>\n",
       "      <td>a?Co:/r;nu_wTQ</td>\n",
       "    </tr>\n",
       "    <tr>\n",
       "      <th>996</th>\n",
       "      <td>597409</td>\n",
       "      <td>Mr.</td>\n",
       "      <td>Luke</td>\n",
       "      <td>S</td>\n",
       "      <td>Turner</td>\n",
       "      <td>M</td>\n",
       "      <td>luke.turner@charter.net</td>\n",
       "      <td>Javier Turner</td>\n",
       "      <td>Nicole Turner</td>\n",
       "      <td>Sykes</td>\n",
       "      <td>...</td>\n",
       "      <td>056-02-8240</td>\n",
       "      <td>231-629-0498</td>\n",
       "      <td>Freeport</td>\n",
       "      <td>Barry</td>\n",
       "      <td>Freeport</td>\n",
       "      <td>MI</td>\n",
       "      <td>49325</td>\n",
       "      <td>Midwest</td>\n",
       "      <td>lsturner</td>\n",
       "      <td>7n5@64VC7|</td>\n",
       "    </tr>\n",
       "    <tr>\n",
       "      <th>997</th>\n",
       "      <td>359608</td>\n",
       "      <td>Hon.</td>\n",
       "      <td>Eva</td>\n",
       "      <td>S</td>\n",
       "      <td>Holman</td>\n",
       "      <td>F</td>\n",
       "      <td>eva.holman@hotmail.com</td>\n",
       "      <td>Coy Holman</td>\n",
       "      <td>Haley Holman</td>\n",
       "      <td>Boyle</td>\n",
       "      <td>...</td>\n",
       "      <td>343-11-1935</td>\n",
       "      <td>209-912-6705</td>\n",
       "      <td>Turlock</td>\n",
       "      <td>Stanislaus</td>\n",
       "      <td>Turlock</td>\n",
       "      <td>CA</td>\n",
       "      <td>95381</td>\n",
       "      <td>West</td>\n",
       "      <td>esholman</td>\n",
       "      <td>DG&lt;&lt;&lt;e}*WgD&lt;U</td>\n",
       "    </tr>\n",
       "    <tr>\n",
       "      <th>998</th>\n",
       "      <td>803426</td>\n",
       "      <td>Mrs.</td>\n",
       "      <td>Maritza</td>\n",
       "      <td>H</td>\n",
       "      <td>Christian</td>\n",
       "      <td>F</td>\n",
       "      <td>maritza.christian@microsoft.com</td>\n",
       "      <td>Dion Christian</td>\n",
       "      <td>Stephanie Christian</td>\n",
       "      <td>Mooney</td>\n",
       "      <td>...</td>\n",
       "      <td>336-11-5030</td>\n",
       "      <td>203-224-9056</td>\n",
       "      <td>Stamford</td>\n",
       "      <td>Fairfield</td>\n",
       "      <td>Stamford</td>\n",
       "      <td>CT</td>\n",
       "      <td>6910</td>\n",
       "      <td>Northeast</td>\n",
       "      <td>mhchristian</td>\n",
       "      <td>Krs@#TnM</td>\n",
       "    </tr>\n",
       "    <tr>\n",
       "      <th>999</th>\n",
       "      <td>669618</td>\n",
       "      <td>Drs.</td>\n",
       "      <td>Phyllis</td>\n",
       "      <td>H</td>\n",
       "      <td>Dudley</td>\n",
       "      <td>F</td>\n",
       "      <td>phyllis.dudley@yahoo.co.in</td>\n",
       "      <td>Jarrod Dudley</td>\n",
       "      <td>Latisha Dudley</td>\n",
       "      <td>Wilcox</td>\n",
       "      <td>...</td>\n",
       "      <td>101-02-6501</td>\n",
       "      <td>405-970-2341</td>\n",
       "      <td>Meno</td>\n",
       "      <td>Major</td>\n",
       "      <td>Meno</td>\n",
       "      <td>OK</td>\n",
       "      <td>73760</td>\n",
       "      <td>South</td>\n",
       "      <td>phdudley</td>\n",
       "      <td>h6wt@400%&amp;Uu</td>\n",
       "    </tr>\n",
       "  </tbody>\n",
       "</table>\n",
       "<p>1000 rows × 37 columns</p>\n",
       "</div>"
      ],
      "text/plain": [
       "     Emp ID Name Prefix First Name Middle Initial  Last Name Gender  \\\n",
       "0    850297         Ms.     Shawna              W       Buck      F   \n",
       "1    304721         Mr.  Nathaniel              Z      Burke      M   \n",
       "2    412317        Drs.  Elisabeth              W     Foster      F   \n",
       "3    621375        Mrs.     Briana              C  Lancaster      F   \n",
       "4    787549        Hon.    Estella              L     Potter      F   \n",
       "..      ...         ...        ...            ...        ...    ...   \n",
       "995  568435         Ms.     Bonnie              K      Baker      F   \n",
       "996  597409         Mr.       Luke              S     Turner      M   \n",
       "997  359608        Hon.        Eva              S     Holman      F   \n",
       "998  803426        Mrs.    Maritza              H  Christian      F   \n",
       "999  669618        Drs.    Phyllis              H     Dudley      F   \n",
       "\n",
       "                              E Mail      Father's Name        Mother's Name  \\\n",
       "0              shawna.buck@gmail.com       Rosario Buck          Keisha Buck   \n",
       "1        nathaniel.burke@walmart.com      Derrick Burke         Phoebe Burke   \n",
       "2         elisabeth.foster@gmail.com       Irwin Foster         Janie Foster   \n",
       "3         briana.lancaster@yahoo.com  Jeffrey Lancaster     Shelby Lancaster   \n",
       "4           estella.potter@gmail.com      Booker Potter       Katelyn Potter   \n",
       "..                               ...                ...                  ...   \n",
       "995              bonnie.baker@bp.com      Edwardo Baker        Pauline Baker   \n",
       "996          luke.turner@charter.net      Javier Turner        Nicole Turner   \n",
       "997           eva.holman@hotmail.com         Coy Holman         Haley Holman   \n",
       "998  maritza.christian@microsoft.com     Dion Christian  Stephanie Christian   \n",
       "999       phyllis.dudley@yahoo.co.in      Jarrod Dudley       Latisha Dudley   \n",
       "\n",
       "    Mother's Maiden Name  ...          SSN    Phone No.   Place Name  \\\n",
       "0              Hendricks  ...  222-11-7603  702-771-7149   Las Vegas   \n",
       "1                   Pugh  ...  550-99-9897  231-765-6923       Irons   \n",
       "2                Delaney  ...  215-91-0004  270-749-4774   Lexington   \n",
       "3                  Weiss  ...  534-71-1053  219-623-8216     Munster   \n",
       "4                   Pate  ...  644-29-6396  907-677-8486   Fairbanks   \n",
       "..                   ...  ...          ...           ...         ...   \n",
       "995             Robinson  ...  064-02-6162  262-696-9171   Mukwonago   \n",
       "996                Sykes  ...  056-02-8240  231-629-0498    Freeport   \n",
       "997                Boyle  ...  343-11-1935  209-912-6705     Turlock   \n",
       "998               Mooney  ...  336-11-5030  203-224-9056    Stamford   \n",
       "999               Wilcox  ...  101-02-6501  405-970-2341        Meno   \n",
       "\n",
       "                   County       City State    Zip     Region    User Name  \\\n",
       "0                   Clark  Las Vegas    NV  89128       West       swbuck   \n",
       "1                    Lake      Irons    MI  49644    Midwest      nzburke   \n",
       "2                 Fayette  Lexington    KY  40501      South     ewfoster   \n",
       "3                    Lake    Munster    IN  46321    Midwest  bclancaster   \n",
       "4    Fairbanks North Star  Fairbanks    AK  99709       West     elpotter   \n",
       "..                    ...        ...   ...    ...        ...          ...   \n",
       "995              Waukesha  Mukwonago    WI  53149    Midwest      bkbaker   \n",
       "996                 Barry   Freeport    MI  49325    Midwest     lsturner   \n",
       "997            Stanislaus    Turlock    CA  95381       West     esholman   \n",
       "998             Fairfield   Stamford    CT   6910  Northeast  mhchristian   \n",
       "999                 Major       Meno    OK  73760      South     phdudley   \n",
       "\n",
       "            Password  \n",
       "0    ja8?k3BTF^]o@<&  \n",
       "1     tPA@4Wh9Ja$+Ln  \n",
       "2    5D.B4IGNkWJfG<~  \n",
       "3          I%?JDM;pW  \n",
       "4        j4jkEXfC&Rh  \n",
       "..               ...  \n",
       "995   a?Co:/r;nu_wTQ  \n",
       "996       7n5@64VC7|  \n",
       "997    DG<<<e}*WgD<U  \n",
       "998         Krs@#TnM  \n",
       "999     h6wt@400%&Uu  \n",
       "\n",
       "[1000 rows x 37 columns]"
      ]
     },
     "execution_count": 2,
     "metadata": {},
     "output_type": "execute_result"
    }
   ],
   "source": [
    "df= pd.read_csv('demo.csv')\n",
    "df"
   ]
  },
  {
   "cell_type": "markdown",
   "id": "78021f89",
   "metadata": {},
   "source": [
    "# 1.Which month saw the highest joining of the employees?"
   ]
  },
  {
   "cell_type": "code",
   "execution_count": 3,
   "id": "7058de33",
   "metadata": {},
   "outputs": [],
   "source": [
    "def max_joinings_month(df):\n",
    "    df['Date of Joining'] = pd.to_datetime(df['Date of Joining'])\n",
    "    \n",
    "    df['Date of Joining'] = df['Date of Joining'].dt.month_name()\\\n",
    "\n",
    "    joining_counts = df['Date of Joining'].value_counts()\n",
    "   \n",
    "    max_month = joining_counts.idxmax()\n",
    "\n",
    "    # Return the name of the month with the highest joinings\n",
    "    return max_month"
   ]
  },
  {
   "cell_type": "code",
   "execution_count": 4,
   "id": "e0528ebe",
   "metadata": {},
   "outputs": [
    {
     "name": "stdout",
     "output_type": "stream",
     "text": [
      "on demo.csv April\n"
     ]
    }
   ],
   "source": [
    "print(\"on demo.csv\",max_joinings_month(df))"
   ]
  },
  {
   "cell_type": "markdown",
   "id": "18d53c8c",
   "metadata": {},
   "source": [
    "# 2. What is the mean salary is the state KS?"
   ]
  },
  {
   "cell_type": "code",
   "execution_count": 5,
   "id": "f550aba1",
   "metadata": {},
   "outputs": [],
   "source": [
    "def mean_ks_salary(df):\n",
    "    KS_df = df[df['State'] == 'KS'] # filterING the dataframe\n",
    "    \n",
    "    salary = KS_df['Salary'] # calculate the mean salary of KS state\n",
    "    \n",
    "    mean_salary=salary.mean()\n",
    "    \n",
    "    return mean_salary"
   ]
  },
  {
   "cell_type": "code",
   "execution_count": 6,
   "id": "665ffd1c",
   "metadata": {},
   "outputs": [
    {
     "name": "stdout",
     "output_type": "stream",
     "text": [
      "on demo.csv 104225.45454545454\n"
     ]
    }
   ],
   "source": [
    "print(\"on demo.csv\",mean_ks_salary(df))"
   ]
  },
  {
   "cell_type": "markdown",
   "id": "d23fcb47",
   "metadata": {},
   "source": [
    "# 3.Which Region has highest mean salary?"
   ]
  },
  {
   "cell_type": "code",
   "execution_count": 7,
   "id": "ce1f7594",
   "metadata": {},
   "outputs": [],
   "source": [
    "def max_mean_salary_region(df):\n",
    "    mean_salary_by_region = df.groupby('Region')['Salary'].mean()\n",
    "    \n",
    "    max_mean_salary = mean_salary_by_region.max()\n",
    "    \n",
    "    region_with_max_mean_salary = mean_salary_by_region[mean_salary_by_region == max_mean_salary].index[0]\n",
    "    \n",
    "    return region_with_max_mean_salary"
   ]
  },
  {
   "cell_type": "code",
   "execution_count": 8,
   "id": "2884e969",
   "metadata": {},
   "outputs": [
    {
     "name": "stdout",
     "output_type": "stream",
     "text": [
      "on demo.csv Midwest\n"
     ]
    }
   ],
   "source": [
    "print(\"on demo.csv\",max_mean_salary_region(df))"
   ]
  },
  {
   "cell_type": "markdown",
   "id": "95421456",
   "metadata": {},
   "source": [
    "# 4. Which region has lowest mean salary?"
   ]
  },
  {
   "cell_type": "code",
   "execution_count": 9,
   "id": "30e1e2b7",
   "metadata": {},
   "outputs": [],
   "source": [
    "def min_mean_salary_region(df):\n",
    "    mean_salary_by_region = df.groupby('Region')['Salary'].mean()\n",
    "    \n",
    "    min_mean_salary = mean_salary_by_region.min()\n",
    "    \n",
    "    region_with_min_mean_salary = mean_salary_by_region[mean_salary_by_region == min_mean_salary].index[0]\n",
    "    \n",
    "    return region_with_min_mean_salary"
   ]
  },
  {
   "cell_type": "code",
   "execution_count": 10,
   "id": "f92fce56",
   "metadata": {},
   "outputs": [
    {
     "name": "stdout",
     "output_type": "stream",
     "text": [
      "on demo.csv West\n"
     ]
    }
   ],
   "source": [
    "print(\"on demo.csv\",min_mean_salary_region(df))"
   ]
  },
  {
   "cell_type": "markdown",
   "id": "37d37537",
   "metadata": {},
   "source": [
    "# 5. Which City has highest mean weight?"
   ]
  },
  {
   "cell_type": "code",
   "execution_count": 11,
   "id": "41528587",
   "metadata": {},
   "outputs": [],
   "source": [
    "def max_mean_weight_city(df):\n",
    "    # Calculate the mean weight for each city\n",
    "    \n",
    "    mean_weights = df.groupby('City')['Weight in Kgs.'].mean()\n",
    "\n",
    "    # Find the city with the highest mean weight\n",
    "    \n",
    "    max_mean_weight_city = mean_weights.idxmax()\n",
    "\n",
    "    return max_mean_weight_city"
   ]
  },
  {
   "cell_type": "code",
   "execution_count": 12,
   "id": "fef6bdc8",
   "metadata": {},
   "outputs": [
    {
     "name": "stdout",
     "output_type": "stream",
     "text": [
      "on demo.csv Conroe\n"
     ]
    }
   ],
   "source": [
    "print(\"on demo.csv\",max_mean_weight_city(df))"
   ]
  },
  {
   "cell_type": "markdown",
   "id": "3f9267c8",
   "metadata": {},
   "source": [
    "# 6. What is the difference between mean salary of Doctors and Professors?"
   ]
  },
  {
   "cell_type": "code",
   "execution_count": 13,
   "id": "bcf94a38",
   "metadata": {},
   "outputs": [],
   "source": [
    "def dr_prof_mean_salary_diff(df):    \n",
    "    dr_salary = df[df[\"Name Prefix\"].str.contains('Dr')]['Salary'].mean()\n",
    "    \n",
    "    mean_professors_salary = df[df[\"Name Prefix\"].str.contains('Prof')][\"Salary\"].mean()\n",
    "    \n",
    "    final= mean_professors_salary - dr_salary\n",
    "    return final"
   ]
  },
  {
   "cell_type": "code",
   "execution_count": 14,
   "id": "7f9613e6",
   "metadata": {},
   "outputs": [
    {
     "name": "stdout",
     "output_type": "stream",
     "text": [
      "on demo.csv 2635.981785063763\n"
     ]
    }
   ],
   "source": [
    "print(\"on demo.csv\",dr_prof_mean_salary_diff(df))"
   ]
  },
  {
   "cell_type": "markdown",
   "id": "b1515efc",
   "metadata": {},
   "source": [
    "# 7. How many female use yahoo?"
   ]
  },
  {
   "cell_type": "code",
   "execution_count": 15,
   "id": "904ea695",
   "metadata": {},
   "outputs": [],
   "source": [
    "def females_with_yahoo(df):\n",
    "    yahoo_mask = df['E Mail'].str.contains('@yahoo')\n",
    "    \n",
    "    female_mask = df['Gender'] == 'F'\n",
    "    \n",
    "    filtered_df = df[yahoo_mask & female_mask]\n",
    "    \n",
    "    return len(filtered_df)"
   ]
  },
  {
   "cell_type": "code",
   "execution_count": 16,
   "id": "02050f77",
   "metadata": {},
   "outputs": [
    {
     "name": "stdout",
     "output_type": "stream",
     "text": [
      "on demo.csv 69\n"
     ]
    }
   ],
   "source": [
    "print(\"on demo.csv\",females_with_yahoo(df))"
   ]
  },
  {
   "cell_type": "markdown",
   "id": "72f0bac6",
   "metadata": {},
   "source": [
    "# 8. How many Doctors use gmail?"
   ]
  },
  {
   "cell_type": "code",
   "execution_count": 17,
   "id": "9d364068",
   "metadata": {},
   "outputs": [],
   "source": [
    "def doctors_with_gmail(df):\n",
    "    gmail_mask = df['E Mail'].str.contains('@gmail')\n",
    "    \n",
    "    dr_mask = df['Name Prefix'] == 'Dr.'\n",
    "    \n",
    "    drs_mask = df['Name Prefix'] == 'Drs.'\n",
    "    \n",
    "    total_drs=dr_mask+drs_mask\n",
    "    \n",
    "    filtered_df = df[gmail_mask & total_drs]\n",
    "    \n",
    "    return len(filtered_df)"
   ]
  },
  {
   "cell_type": "code",
   "execution_count": 18,
   "id": "54c9db97",
   "metadata": {},
   "outputs": [
    {
     "name": "stdout",
     "output_type": "stream",
     "text": [
      "on demo.csv 42\n"
     ]
    }
   ],
   "source": [
    "print(\"on demo.csv\",doctors_with_gmail(df))"
   ]
  },
  {
   "cell_type": "markdown",
   "id": "e015e225",
   "metadata": {},
   "source": [
    "# 9. What is the password of the youngest male?"
   ]
  },
  {
   "cell_type": "code",
   "execution_count": 19,
   "id": "55bb9cfb",
   "metadata": {},
   "outputs": [],
   "source": [
    "def youngest_male_password(df):\n",
    "    \n",
    "    males = df[df['Gender'] == 'M']\n",
    "    \n",
    "    youngest_male = males.loc[males['Age in Yrs.'].idxmin()]\n",
    "    \n",
    "#     return youngest_male\n",
    "    return youngest_male['Password']\n",
    "    "
   ]
  },
  {
   "cell_type": "code",
   "execution_count": 20,
   "id": "e8434ca9",
   "metadata": {},
   "outputs": [
    {
     "name": "stdout",
     "output_type": "stream",
     "text": [
      "on demo.csv xPr\\aGPTQ#v\n"
     ]
    }
   ],
   "source": [
    "print(\"on demo.csv\",youngest_male_password(df))"
   ]
  }
 ],
 "metadata": {
  "kernelspec": {
   "display_name": "Python 3 (ipykernel)",
   "language": "python",
   "name": "python3"
  },
  "language_info": {
   "codemirror_mode": {
    "name": "ipython",
    "version": 3
   },
   "file_extension": ".py",
   "mimetype": "text/x-python",
   "name": "python",
   "nbconvert_exporter": "python",
   "pygments_lexer": "ipython3",
   "version": "3.9.7"
  }
 },
 "nbformat": 4,
 "nbformat_minor": 5
}
