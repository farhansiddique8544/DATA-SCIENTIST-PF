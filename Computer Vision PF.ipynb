{
 "cells": [
  {
   "cell_type": "code",
   "execution_count": 1,
   "id": "bf949d20",
   "metadata": {},
   "outputs": [],
   "source": [
    "import cv2 "
   ]
  },
  {
   "cell_type": "code",
   "execution_count": 2,
   "id": "542700fd",
   "metadata": {},
   "outputs": [
    {
     "name": "stdout",
     "output_type": "stream",
     "text": [
      "[[[  1 255 255]\n",
      "  [  1 255 255]\n",
      "  [  1 255 255]\n",
      "  ...\n",
      "  [  1 255 255]\n",
      "  [  1 255 255]\n",
      "  [  1 255 255]]\n",
      "\n",
      " [[  1 255 255]\n",
      "  [  1 255 255]\n",
      "  [  1 255 255]\n",
      "  ...\n",
      "  [  1 255 255]\n",
      "  [  1 255 255]\n",
      "  [  1 255 255]]\n",
      "\n",
      " [[  1 255 255]\n",
      "  [  1 255 255]\n",
      "  [  1 255 255]\n",
      "  ...\n",
      "  [  1 255 255]\n",
      "  [  1 255 255]\n",
      "  [  1 255 255]]\n",
      "\n",
      " ...\n",
      "\n",
      " [[ 42  26  20]\n",
      "  [ 45  29  23]\n",
      "  [ 40  26  20]\n",
      "  ...\n",
      "  [ 26 181 237]\n",
      "  [ 24 182 236]\n",
      "  [ 26 181 236]]\n",
      "\n",
      " [[ 41  25  19]\n",
      "  [ 51  35  29]\n",
      "  [ 40  26  20]\n",
      "  ...\n",
      "  [ 23 180 236]\n",
      "  [ 24 181 237]\n",
      "  [ 26 181 236]]\n",
      "\n",
      " [[ 38  22  16]\n",
      "  [ 48  32  26]\n",
      "  [ 41  27  21]\n",
      "  ...\n",
      "  [ 23 180 236]\n",
      "  [ 22 181 237]\n",
      "  [ 24 182 236]]]\n"
     ]
    }
   ],
   "source": [
    "image=cv2.imread('rebecca.jpg')\n",
    "print(image)"
   ]
  },
  {
   "cell_type": "code",
   "execution_count": 3,
   "id": "0d0291c4",
   "metadata": {},
   "outputs": [],
   "source": [
    "cv2.imshow('rebecca',image)\n",
    "cv2.waitKey(0)\n",
    "cv2.destroyAllWindows()"
   ]
  },
  {
   "cell_type": "code",
   "execution_count": 4,
   "id": "f6a61700",
   "metadata": {},
   "outputs": [],
   "source": [
    "# my_img=cv2.imread('rebecca.jpg',0)\n",
    "# cv2.imshow('Gray Scale Image Apple',my_img)\n",
    "# cv2.waitKey(0)\n",
    "# cv2.destroyAllWindows()"
   ]
  },
  {
   "cell_type": "code",
   "execution_count": 5,
   "id": "e553b786",
   "metadata": {},
   "outputs": [],
   "source": [
    "# img=cv2.imread('rebecca.jpg')\n",
    "# img1=cv2.resize(img,(250,250))\n",
    "# cv2.imshow('resized',img1)\n",
    "# cv2.waitKey(0)\n",
    "# cv2.destroyAllWindows()"
   ]
  },
  {
   "cell_type": "code",
   "execution_count": 6,
   "id": "3f523b6c",
   "metadata": {},
   "outputs": [],
   "source": [
    "# img1=cv2.imread('rebecca.jpg')\n",
    "# img1=cv2.resize(img1,(250,250))\n",
    "# img = cv2.copyMakeBorder(img1, 250, 250, 250, 250,cv2.BORDER_REFLECT)\n",
    "# cv2.imshow('ADD' , img)\n",
    "# cv2.waitKey(0)\n",
    "# cv2.destroyAllWindows()"
   ]
  },
  {
   "cell_type": "code",
   "execution_count": 7,
   "id": "d6844c9b",
   "metadata": {},
   "outputs": [],
   "source": [
    "# from matplotlib import pyplot as plt\n",
    "# img=cv2.imread('rebecca.jpg')\n",
    "# img=cv2.resize(img,(250,250),0)\n",
    "# start=(0,250)\n",
    "# end=(250,0)\n",
    "# thickness=10\n",
    "# color=(250,0,0)\n",
    "# image = cv2.line(img, start, end, color, thickness)\n",
    "# cv2.imshow('Draw Line',image)\n",
    "# cv2.waitKey(0)\n",
    "# cv2.destroyAllWindows()"
   ]
  },
  {
   "cell_type": "code",
   "execution_count": 8,
   "id": "a5dce995",
   "metadata": {},
   "outputs": [],
   "source": [
    "# from matplotlib import pyplot as plt\n",
    "# img=cv2.imread('rebecca.jpg')\n",
    "# img=cv2.resize(img,(250,250))\n",
    "# start=(0,0)\n",
    "# end=(250,250)\n",
    "# thickness=10\n",
    "# color=(250,0,0)\n",
    "# image = cv2.arrowedLine(img, start, end, color, thickness)\n",
    "# start=(0,250)\n",
    "# end=(250,0)\n",
    "# thickness=10\n",
    "# color=(250,0,0)\n",
    "# image = cv2.arrowedLine(image, start, end, color, thickness)\n",
    "# cv2.imshow('Draw Line',image)\n",
    "# cv2.waitKey(0)\n",
    "# cv2.destroyAllWindows()"
   ]
  },
  {
   "cell_type": "code",
   "execution_count": 9,
   "id": "229e1403",
   "metadata": {},
   "outputs": [],
   "source": [
    "# from matplotlib import pyplot as plt\n",
    "# img=cv2.imread('rebecca.jpg')\n",
    "# img=cv2.resize(img,(250,250),0)\n",
    "# thickness=5\n",
    "# color=(250,0,0)\n",
    "# center_coordinates=(150,125)\n",
    "# axesLength=(100,100)\n",
    "# angle=30\n",
    "# startAngle=0\n",
    "# endAngle=360\n",
    "# color=(50,250,200)\n",
    "# thickness=5\n",
    "# image = cv2.ellipse(img, center_coordinates, axesLength, angle, startAngle, endAngle, color, thickness)\n",
    "# cv2.imshow('Draw ellipse',image)\n",
    "# cv2.waitKey(0)\n",
    "# cv2.destroyAllWindows()"
   ]
  },
  {
   "cell_type": "code",
   "execution_count": 10,
   "id": "d9652322",
   "metadata": {},
   "outputs": [],
   "source": [
    "# img[:, 0:50] = [255, 0, 0]\n",
    "# cv2.imshow('grame',img)\n",
    "# cv2.waitKey(0)\n",
    "# cv2.destroyAllWindows()"
   ]
  },
  {
   "cell_type": "code",
   "execution_count": 11,
   "id": "891e0f96",
   "metadata": {},
   "outputs": [],
   "source": [
    "# img = cv2.imread('rebecca.jpg')\n",
    "# my_roi = img[0:100, 0:100]\n",
    "# img[300:400, 300:400] = [0,255,0]\n",
    "# cv2.imshow('grame',img)\n",
    "# cv2.waitKey(0)\n",
    "# cv2.destroyAllWindows()"
   ]
  },
  {
   "cell_type": "code",
   "execution_count": 13,
   "id": "593cc91f",
   "metadata": {},
   "outputs": [],
   "source": [
    "# import cv2\n",
    "# import numpy as np\n",
    "# img = cv2.imread(\"rebecca.jpg\", 0)\n",
    "# img=cv2.Canny(img, 50, 50)\n",
    "# cv2.imshow('grame',img)\n",
    "# cv2.waitKey()\n",
    "# cv2.destroyAllWindows()"
   ]
  },
  {
   "cell_type": "code",
   "execution_count": 14,
   "id": "98509632",
   "metadata": {},
   "outputs": [],
   "source": [
    "# import cv2\n",
    "# import numpy as np\n",
    "# img = np.zeros((200, 200), dtype=np.uint8)\n",
    "# img[50:150, 50:150] = 255\n",
    "# ret, thresh = cv2.threshold(img, 127, 255, 0)\n",
    "# contours, hierarchy = cv2.findContours(thresh, cv2.RETR_TREE,cv2.CHAIN_APPROX_SIMPLE)\n",
    "# color = cv2.cvtColor(img, cv2.COLOR_GRAY2BGR)\n",
    "# img = cv2.drawContours(color, contours, -1, (0,255,0), 2)\n",
    "# cv2.imshow(\"contours\", color)\n",
    "# cv2.waitKey()\n",
    "# cv2.destroyAllWindows()\n"
   ]
  },
  {
   "cell_type": "code",
   "execution_count": 17,
   "id": "8adee3ab",
   "metadata": {},
   "outputs": [],
   "source": [
    "# import cv2\n",
    "# import numpy as np\n",
    "# img = cv2.imread('rebecca.jpg')\n",
    "# img=cv2.resize(img,(800,500),0)\n",
    "# gray = cv2.cvtColor(img, cv2.COLOR_BGR2GRAY)\n",
    "# edges = cv2.Canny(gray, 50, 120)\n",
    "# minLineLength = 20\n",
    "# maxLineGap = 5\n",
    "# lines = cv2.HoughLinesP(edges, 1, np.pi/180.0, 20,\n",
    "#  minLineLength, maxLineGap)\n",
    "# for x1, y1, x2, y2 in lines[0]:\n",
    "#     cv2.line(img, (x1, y1), (x2, y2), (0,255,0),2)a\n",
    "# cv2.imshow(\"edges\", edges)\n",
    "# cv2.imshow(\"lines\", img)\n",
    "# cv2.waitKey()\n",
    "# cv2.destroyAllWindows()"
   ]
  },
  {
   "cell_type": "code",
   "execution_count": 19,
   "id": "947ed8e4",
   "metadata": {},
   "outputs": [],
   "source": [
    "# import cv2\n",
    "# import numpy as np\n",
    "# planets = cv2.imread('rebecca.jpg')\n",
    "# gray_img = cv2.cvtColor(planets, cv2.COLOR_BGR2GRAY)\n",
    "# gray_img = cv2.medianBlur(gray_img, 5)\n",
    "# #cv2.approxPolyDP.\n",
    "# circles = cv2.HoughCircles(gray_img,cv2.HOUGH_GRADIENT,1,120,param1=50,param2=50,minRadius=0,maxRadius=100)\n",
    "# circles = np.uint16(np.around(circles))\n",
    "# for i in circles[0,:]:\n",
    "#  # draw the outer circle\n",
    "#  cv2.circle(planets,(i[0],i[1]),i[2],(0,255,0),2)\n",
    "#  # draw the center of the circle\n",
    "#  cv2.circle(planets,(i[0],i[1]),2,(0,0,255),3)\n",
    "# cv2.imwrite(\"rebecca.jpg\", planets)\n",
    "# cv2.imshow(\"HoughCirlces\", planets)\n",
    "# cv2.waitKey()\n",
    "# cv2.destroyAllWindows()"
   ]
  }
 ],
 "metadata": {
  "kernelspec": {
   "display_name": "Python 3 (ipykernel)",
   "language": "python",
   "name": "python3"
  },
  "language_info": {
   "codemirror_mode": {
    "name": "ipython",
    "version": 3
   },
   "file_extension": ".py",
   "mimetype": "text/x-python",
   "name": "python",
   "nbconvert_exporter": "python",
   "pygments_lexer": "ipython3",
   "version": "3.9.7"
  }
 },
 "nbformat": 4,
 "nbformat_minor": 5
}
