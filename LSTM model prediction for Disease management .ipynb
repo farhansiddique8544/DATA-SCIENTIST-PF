{
 "cells": [
  {
   "cell_type": "code",
   "execution_count": 1,
   "id": "435bbc51",
   "metadata": {},
   "outputs": [
    {
     "name": "stderr",
     "output_type": "stream",
     "text": [
      "C:\\Users\\Dell\\anaconda3\\lib\\site-packages\\scipy\\__init__.py:146: UserWarning: A NumPy version >=1.16.5 and <1.23.0 is required for this version of SciPy (detected version 1.26.4\n",
      "  warnings.warn(f\"A NumPy version >={np_minversion} and <{np_maxversion}\"\n"
     ]
    }
   ],
   "source": [
    "import pandas as pd\n",
    "import numpy as np\n",
    "from sklearn.model_selection import train_test_split\n",
    "from sklearn.preprocessing import StandardScaler\n",
    "from tensorflow.keras.models import Sequential\n",
    "from tensorflow.keras.layers import LSTM, Dense, Dropout\n",
    "from tensorflow.keras.optimizers import Adam\n",
    "from sklearn.metrics import precision_score, recall_score, f1_score"
   ]
  },
  {
   "cell_type": "code",
   "execution_count": 2,
   "id": "57edde9a",
   "metadata": {},
   "outputs": [],
   "source": [
    "df = pd.read_excel('Data.xlsx')\n",
    "\n",
    "df['Date'] = pd.to_datetime(df['Date'])\n",
    "\n",
    "df = df.sort_values(['Part ID', 'Date'])"
   ]
  },
  {
   "cell_type": "markdown",
   "id": "4542ab6c",
   "metadata": {},
   "source": [
    "### Remove Part IDs with less than 50 days of data"
   ]
  },
  {
   "cell_type": "code",
   "execution_count": 3,
   "id": "ba316d25",
   "metadata": {},
   "outputs": [],
   "source": [
    "part_counts = df['Part ID'].value_counts()\n",
    "df_filtered = df[df['Part ID'].isin(part_counts[part_counts >= 50].index)]"
   ]
  },
  {
   "cell_type": "markdown",
   "id": "e32aa1fb",
   "metadata": {},
   "source": [
    "### Grouping data week by week"
   ]
  },
  {
   "cell_type": "code",
   "execution_count": 4,
   "id": "60b25e59",
   "metadata": {},
   "outputs": [],
   "source": [
    "def resample_7d(group):\n",
    "    cycle_col = group['Cycle'].max()\n",
    "    mean_cols = group.drop(columns=['Cycle']).set_index('Date').resample('7D').mean().reset_index()\n",
    "    mean_cols['Cycle'] = cycle_col\n",
    "    return mean_cols\n",
    "df_resampled_filtered = df_filtered.groupby('Part ID').apply(resample_7d).reset_index(drop=True)"
   ]
  },
  {
   "cell_type": "markdown",
   "id": "3ae3b7cd",
   "metadata": {},
   "source": [
    "### Making binary Values and creating a window"
   ]
  },
  {
   "cell_type": "code",
   "execution_count": 5,
   "id": "ff442cd5",
   "metadata": {},
   "outputs": [],
   "source": [
    "df_resampled_filtered['response'] = np.where(df_resampled_filtered['Total Score'] == 0, 0, 1)\n",
    "\n",
    "feature_columns = ['Feature_1', 'Feature_2', 'Feature_3', 'Feature_4', 'Feature_5', \n",
    "                   'Feature_6', 'Feature_7', 'Feature_8', 'Feature_9', 'Feature_10', \n",
    "                   'Feature_11', 'Feature_12']\n",
    "\n",
    "df_resampled_filtered[feature_columns] = df_resampled_filtered[feature_columns].shift(1)\n",
    "df_resampled_filtered = df_resampled_filtered.dropna()"
   ]
  },
  {
   "cell_type": "code",
   "execution_count": 6,
   "id": "9854bbdf",
   "metadata": {},
   "outputs": [
    {
     "data": {
      "text/html": [
       "<div>\n",
       "<style scoped>\n",
       "    .dataframe tbody tr th:only-of-type {\n",
       "        vertical-align: middle;\n",
       "    }\n",
       "\n",
       "    .dataframe tbody tr th {\n",
       "        vertical-align: top;\n",
       "    }\n",
       "\n",
       "    .dataframe thead th {\n",
       "        text-align: right;\n",
       "    }\n",
       "</style>\n",
       "<table border=\"1\" class=\"dataframe\">\n",
       "  <thead>\n",
       "    <tr style=\"text-align: right;\">\n",
       "      <th></th>\n",
       "      <th>Date</th>\n",
       "      <th>Part ID</th>\n",
       "      <th>Feature_1</th>\n",
       "      <th>Feature_2</th>\n",
       "      <th>Feature_3</th>\n",
       "      <th>Feature_4</th>\n",
       "      <th>Feature_5</th>\n",
       "      <th>Feature_6</th>\n",
       "      <th>Feature_7</th>\n",
       "      <th>Feature_8</th>\n",
       "      <th>Feature_9</th>\n",
       "      <th>Feature_10</th>\n",
       "      <th>Feature_11</th>\n",
       "      <th>Feature_12</th>\n",
       "      <th>Total Score</th>\n",
       "      <th>Cycle</th>\n",
       "      <th>response</th>\n",
       "    </tr>\n",
       "  </thead>\n",
       "  <tbody>\n",
       "    <tr>\n",
       "      <th>5</th>\n",
       "      <td>2010-02-02</td>\n",
       "      <td>1.0</td>\n",
       "      <td>15.5</td>\n",
       "      <td>4.5</td>\n",
       "      <td>0.0</td>\n",
       "      <td>0.0</td>\n",
       "      <td>0.0</td>\n",
       "      <td>0.0</td>\n",
       "      <td>4.5</td>\n",
       "      <td>0.0</td>\n",
       "      <td>3.5</td>\n",
       "      <td>0.0</td>\n",
       "      <td>0.0</td>\n",
       "      <td>1.5</td>\n",
       "      <td>31.5</td>\n",
       "      <td>49</td>\n",
       "      <td>1</td>\n",
       "    </tr>\n",
       "    <tr>\n",
       "      <th>19</th>\n",
       "      <td>2010-05-11</td>\n",
       "      <td>1.0</td>\n",
       "      <td>0.0</td>\n",
       "      <td>0.0</td>\n",
       "      <td>0.0</td>\n",
       "      <td>3.5</td>\n",
       "      <td>1.0</td>\n",
       "      <td>1.5</td>\n",
       "      <td>4.5</td>\n",
       "      <td>1.5</td>\n",
       "      <td>7.0</td>\n",
       "      <td>2.0</td>\n",
       "      <td>4.5</td>\n",
       "      <td>0.0</td>\n",
       "      <td>12.0</td>\n",
       "      <td>49</td>\n",
       "      <td>1</td>\n",
       "    </tr>\n",
       "    <tr>\n",
       "      <th>22</th>\n",
       "      <td>2010-06-01</td>\n",
       "      <td>1.0</td>\n",
       "      <td>0.0</td>\n",
       "      <td>0.0</td>\n",
       "      <td>0.0</td>\n",
       "      <td>0.0</td>\n",
       "      <td>0.0</td>\n",
       "      <td>0.0</td>\n",
       "      <td>0.0</td>\n",
       "      <td>0.0</td>\n",
       "      <td>8.0</td>\n",
       "      <td>0.0</td>\n",
       "      <td>0.0</td>\n",
       "      <td>0.0</td>\n",
       "      <td>6.0</td>\n",
       "      <td>49</td>\n",
       "      <td>1</td>\n",
       "    </tr>\n",
       "    <tr>\n",
       "      <th>43</th>\n",
       "      <td>2010-10-26</td>\n",
       "      <td>1.0</td>\n",
       "      <td>0.0</td>\n",
       "      <td>0.0</td>\n",
       "      <td>0.0</td>\n",
       "      <td>0.0</td>\n",
       "      <td>0.0</td>\n",
       "      <td>0.0</td>\n",
       "      <td>0.0</td>\n",
       "      <td>0.0</td>\n",
       "      <td>0.0</td>\n",
       "      <td>0.0</td>\n",
       "      <td>0.0</td>\n",
       "      <td>0.0</td>\n",
       "      <td>5.0</td>\n",
       "      <td>49</td>\n",
       "      <td>1</td>\n",
       "    </tr>\n",
       "    <tr>\n",
       "      <th>44</th>\n",
       "      <td>2010-11-02</td>\n",
       "      <td>1.0</td>\n",
       "      <td>0.0</td>\n",
       "      <td>0.0</td>\n",
       "      <td>0.0</td>\n",
       "      <td>0.0</td>\n",
       "      <td>0.0</td>\n",
       "      <td>0.0</td>\n",
       "      <td>0.0</td>\n",
       "      <td>0.0</td>\n",
       "      <td>5.0</td>\n",
       "      <td>0.0</td>\n",
       "      <td>0.0</td>\n",
       "      <td>0.0</td>\n",
       "      <td>10.0</td>\n",
       "      <td>49</td>\n",
       "      <td>1</td>\n",
       "    </tr>\n",
       "  </tbody>\n",
       "</table>\n",
       "</div>"
      ],
      "text/plain": [
       "         Date  Part ID  Feature_1  Feature_2  Feature_3  Feature_4  Feature_5  \\\n",
       "5  2010-02-02      1.0       15.5        4.5        0.0        0.0        0.0   \n",
       "19 2010-05-11      1.0        0.0        0.0        0.0        3.5        1.0   \n",
       "22 2010-06-01      1.0        0.0        0.0        0.0        0.0        0.0   \n",
       "43 2010-10-26      1.0        0.0        0.0        0.0        0.0        0.0   \n",
       "44 2010-11-02      1.0        0.0        0.0        0.0        0.0        0.0   \n",
       "\n",
       "    Feature_6  Feature_7  Feature_8  Feature_9  Feature_10  Feature_11  \\\n",
       "5         0.0        4.5        0.0        3.5         0.0         0.0   \n",
       "19        1.5        4.5        1.5        7.0         2.0         4.5   \n",
       "22        0.0        0.0        0.0        8.0         0.0         0.0   \n",
       "43        0.0        0.0        0.0        0.0         0.0         0.0   \n",
       "44        0.0        0.0        0.0        5.0         0.0         0.0   \n",
       "\n",
       "    Feature_12  Total Score  Cycle  response  \n",
       "5          1.5         31.5     49         1  \n",
       "19         0.0         12.0     49         1  \n",
       "22         0.0          6.0     49         1  \n",
       "43         0.0          5.0     49         1  \n",
       "44         0.0         10.0     49         1  "
      ]
     },
     "execution_count": 6,
     "metadata": {},
     "output_type": "execute_result"
    }
   ],
   "source": [
    "df_resampled_filtered.head()"
   ]
  },
  {
   "cell_type": "code",
   "execution_count": 7,
   "id": "c271ca3f",
   "metadata": {},
   "outputs": [],
   "source": [
    "# df_resampled_filtered.to_excel(\"data new.xlsx\")"
   ]
  },
  {
   "cell_type": "markdown",
   "id": "67421deb",
   "metadata": {},
   "source": [
    "### Dataset Preparation"
   ]
  },
  {
   "cell_type": "code",
   "execution_count": 8,
   "id": "922a6c57",
   "metadata": {},
   "outputs": [],
   "source": [
    "X = df_resampled_filtered[feature_columns]\n",
    "y = df_resampled_filtered['response']\n",
    "\n",
    "X_train, X_test, y_train, y_test = train_test_split(X, y, test_size=0.2, shuffle=False)\n"
   ]
  },
  {
   "cell_type": "code",
   "execution_count": 9,
   "id": "428406d5",
   "metadata": {},
   "outputs": [],
   "source": [
    "scaler = StandardScaler()\n",
    "X_train_scaled = scaler.fit_transform(X_train)\n",
    "X_test_scaled = scaler.transform(X_test)\n",
    "\n",
    "X_train_scaled = X_train_scaled.reshape((X_train_scaled.shape[0], 1, X_train_scaled.shape[1]))\n",
    "X_test_scaled = X_test_scaled.reshape((X_test_scaled.shape[0], 1, X_test_scaled.shape[1]))"
   ]
  },
  {
   "cell_type": "markdown",
   "id": "43ff2ab1",
   "metadata": {},
   "source": [
    "### Model"
   ]
  },
  {
   "cell_type": "code",
   "execution_count": 10,
   "id": "edb8b26b",
   "metadata": {},
   "outputs": [],
   "source": [
    "model = Sequential()\n",
    "model.add(LSTM(units=128, return_sequences=False, input_shape=(X_train_scaled.shape[1], X_train_scaled.shape[2])))\n",
    "model.add(Dropout(0.2))\n",
    "model.add(Dense(1, activation='sigmoid'))\n",
    "\n",
    "optimizer = Adam(learning_rate=0.001)\n",
    "model.compile(optimizer=optimizer, loss='binary_crossentropy', metrics=['accuracy'])"
   ]
  },
  {
   "cell_type": "code",
   "execution_count": 16,
   "id": "6039feaa",
   "metadata": {},
   "outputs": [
    {
     "name": "stdout",
     "output_type": "stream",
     "text": [
      "Epoch 1/20\n",
      "95/95 [==============================] - 1s 6ms/step - loss: 0.5309 - accuracy: 0.7125 - val_loss: 0.4637 - val_accuracy: 0.7697\n",
      "Epoch 2/20\n",
      "95/95 [==============================] - 1s 5ms/step - loss: 0.5298 - accuracy: 0.7187 - val_loss: 0.4625 - val_accuracy: 0.7671\n",
      "Epoch 3/20\n",
      "95/95 [==============================] - 1s 6ms/step - loss: 0.5289 - accuracy: 0.7181 - val_loss: 0.4622 - val_accuracy: 0.7684\n",
      "Epoch 4/20\n",
      "95/95 [==============================] - 1s 6ms/step - loss: 0.5286 - accuracy: 0.7171 - val_loss: 0.4623 - val_accuracy: 0.7724\n",
      "Epoch 5/20\n",
      "95/95 [==============================] - 1s 6ms/step - loss: 0.5266 - accuracy: 0.7194 - val_loss: 0.4636 - val_accuracy: 0.7645\n",
      "Epoch 6/20\n",
      "95/95 [==============================] - 1s 5ms/step - loss: 0.5289 - accuracy: 0.7131 - val_loss: 0.4614 - val_accuracy: 0.7684\n",
      "Epoch 7/20\n",
      "95/95 [==============================] - 1s 6ms/step - loss: 0.5271 - accuracy: 0.7177 - val_loss: 0.4625 - val_accuracy: 0.7697\n",
      "Epoch 8/20\n",
      "95/95 [==============================] - 1s 5ms/step - loss: 0.5265 - accuracy: 0.7204 - val_loss: 0.4608 - val_accuracy: 0.7671\n",
      "Epoch 9/20\n",
      "95/95 [==============================] - 0s 5ms/step - loss: 0.5259 - accuracy: 0.7154 - val_loss: 0.4614 - val_accuracy: 0.7711\n",
      "Epoch 10/20\n",
      "95/95 [==============================] - 0s 5ms/step - loss: 0.5263 - accuracy: 0.7177 - val_loss: 0.4607 - val_accuracy: 0.7697\n",
      "Epoch 11/20\n",
      "95/95 [==============================] - 0s 4ms/step - loss: 0.5248 - accuracy: 0.7204 - val_loss: 0.4614 - val_accuracy: 0.7684\n",
      "Epoch 12/20\n",
      "95/95 [==============================] - 0s 4ms/step - loss: 0.5247 - accuracy: 0.7174 - val_loss: 0.4612 - val_accuracy: 0.7684\n",
      "Epoch 13/20\n",
      "95/95 [==============================] - 0s 5ms/step - loss: 0.5238 - accuracy: 0.7210 - val_loss: 0.4608 - val_accuracy: 0.7711\n",
      "Epoch 14/20\n",
      "95/95 [==============================] - 0s 5ms/step - loss: 0.5239 - accuracy: 0.7190 - val_loss: 0.4595 - val_accuracy: 0.7737\n",
      "Epoch 15/20\n",
      "95/95 [==============================] - 0s 5ms/step - loss: 0.5240 - accuracy: 0.7204 - val_loss: 0.4604 - val_accuracy: 0.7684\n",
      "Epoch 16/20\n",
      "95/95 [==============================] - 0s 5ms/step - loss: 0.5231 - accuracy: 0.7164 - val_loss: 0.4608 - val_accuracy: 0.7737\n",
      "Epoch 17/20\n",
      "95/95 [==============================] - 0s 5ms/step - loss: 0.5223 - accuracy: 0.7204 - val_loss: 0.4599 - val_accuracy: 0.7697\n",
      "Epoch 18/20\n",
      "95/95 [==============================] - 0s 5ms/step - loss: 0.5231 - accuracy: 0.7200 - val_loss: 0.4601 - val_accuracy: 0.7724\n",
      "Epoch 19/20\n",
      "95/95 [==============================] - 0s 5ms/step - loss: 0.5223 - accuracy: 0.7177 - val_loss: 0.4602 - val_accuracy: 0.7737\n",
      "Epoch 20/20\n",
      "95/95 [==============================] - 0s 5ms/step - loss: 0.5221 - accuracy: 0.7174 - val_loss: 0.4626 - val_accuracy: 0.7697\n"
     ]
    }
   ],
   "source": [
    "history = model.fit(X_train_scaled, y_train, epochs=20, batch_size=32, validation_data=(X_test_scaled, y_test))"
   ]
  },
  {
   "cell_type": "code",
   "execution_count": 12,
   "id": "2fe08f1d",
   "metadata": {},
   "outputs": [
    {
     "name": "stdout",
     "output_type": "stream",
     "text": [
      "24/24 [==============================] - 0s 2ms/step - loss: 0.4644 - accuracy: 0.7671\n",
      "Test Accuracy: 0.7671\n"
     ]
    }
   ],
   "source": [
    "loss, accuracy = model.evaluate(X_test_scaled, y_test)\n",
    "print(f'Test Accuracy: {accuracy:.4f}')"
   ]
  },
  {
   "cell_type": "markdown",
   "id": "81680f69",
   "metadata": {},
   "source": [
    "### Prediction"
   ]
  },
  {
   "cell_type": "code",
   "execution_count": 13,
   "id": "69c68487",
   "metadata": {},
   "outputs": [
    {
     "name": "stdout",
     "output_type": "stream",
     "text": [
      "119/119 [==============================] - 1s 2ms/step\n"
     ]
    }
   ],
   "source": [
    "X_scaled = scaler.transform(X)\n",
    "X_scaled = X_scaled.reshape((X_scaled.shape[0], 1, X_scaled.shape[1]))\n",
    "\n",
    "y_pred_all = model.predict(X_scaled)\n",
    "y_pred_all_classes = (y_pred_all > 0.5).astype(\"int32\")\n",
    "\n",
    "df_resampled_filtered['predict'] = y_pred_all_classes.flatten()\n",
    "\n",
    "# df_resampled_filtered.to_excel('predictions_future_observation.xlsx', index=False)\n",
    "\n",
    "# print(\"Predictions for all data have been added and the file has been saved as 'predictions_future_observations.xlsx'.\")\n"
   ]
  },
  {
   "cell_type": "code",
   "execution_count": 14,
   "id": "f5f3376b",
   "metadata": {},
   "outputs": [
    {
     "data": {
      "text/html": [
       "<div>\n",
       "<style scoped>\n",
       "    .dataframe tbody tr th:only-of-type {\n",
       "        vertical-align: middle;\n",
       "    }\n",
       "\n",
       "    .dataframe tbody tr th {\n",
       "        vertical-align: top;\n",
       "    }\n",
       "\n",
       "    .dataframe thead th {\n",
       "        text-align: right;\n",
       "    }\n",
       "</style>\n",
       "<table border=\"1\" class=\"dataframe\">\n",
       "  <thead>\n",
       "    <tr style=\"text-align: right;\">\n",
       "      <th></th>\n",
       "      <th>Date</th>\n",
       "      <th>Part ID</th>\n",
       "      <th>Feature_1</th>\n",
       "      <th>Feature_2</th>\n",
       "      <th>Feature_3</th>\n",
       "      <th>Feature_4</th>\n",
       "      <th>Feature_5</th>\n",
       "      <th>Feature_6</th>\n",
       "      <th>Feature_7</th>\n",
       "      <th>Feature_8</th>\n",
       "      <th>Feature_9</th>\n",
       "      <th>Feature_10</th>\n",
       "      <th>Feature_11</th>\n",
       "      <th>Feature_12</th>\n",
       "      <th>Total Score</th>\n",
       "      <th>Cycle</th>\n",
       "      <th>response</th>\n",
       "      <th>predict</th>\n",
       "    </tr>\n",
       "  </thead>\n",
       "  <tbody>\n",
       "    <tr>\n",
       "      <th>5</th>\n",
       "      <td>2010-02-02</td>\n",
       "      <td>1.0</td>\n",
       "      <td>15.5</td>\n",
       "      <td>4.5</td>\n",
       "      <td>0.0</td>\n",
       "      <td>0.0</td>\n",
       "      <td>0.0</td>\n",
       "      <td>0.0</td>\n",
       "      <td>4.5</td>\n",
       "      <td>0.0</td>\n",
       "      <td>3.5</td>\n",
       "      <td>0.0</td>\n",
       "      <td>0.0</td>\n",
       "      <td>1.5</td>\n",
       "      <td>31.5</td>\n",
       "      <td>49</td>\n",
       "      <td>1</td>\n",
       "      <td>1</td>\n",
       "    </tr>\n",
       "    <tr>\n",
       "      <th>19</th>\n",
       "      <td>2010-05-11</td>\n",
       "      <td>1.0</td>\n",
       "      <td>0.0</td>\n",
       "      <td>0.0</td>\n",
       "      <td>0.0</td>\n",
       "      <td>3.5</td>\n",
       "      <td>1.0</td>\n",
       "      <td>1.5</td>\n",
       "      <td>4.5</td>\n",
       "      <td>1.5</td>\n",
       "      <td>7.0</td>\n",
       "      <td>2.0</td>\n",
       "      <td>4.5</td>\n",
       "      <td>0.0</td>\n",
       "      <td>12.0</td>\n",
       "      <td>49</td>\n",
       "      <td>1</td>\n",
       "      <td>1</td>\n",
       "    </tr>\n",
       "    <tr>\n",
       "      <th>22</th>\n",
       "      <td>2010-06-01</td>\n",
       "      <td>1.0</td>\n",
       "      <td>0.0</td>\n",
       "      <td>0.0</td>\n",
       "      <td>0.0</td>\n",
       "      <td>0.0</td>\n",
       "      <td>0.0</td>\n",
       "      <td>0.0</td>\n",
       "      <td>0.0</td>\n",
       "      <td>0.0</td>\n",
       "      <td>8.0</td>\n",
       "      <td>0.0</td>\n",
       "      <td>0.0</td>\n",
       "      <td>0.0</td>\n",
       "      <td>6.0</td>\n",
       "      <td>49</td>\n",
       "      <td>1</td>\n",
       "      <td>1</td>\n",
       "    </tr>\n",
       "    <tr>\n",
       "      <th>43</th>\n",
       "      <td>2010-10-26</td>\n",
       "      <td>1.0</td>\n",
       "      <td>0.0</td>\n",
       "      <td>0.0</td>\n",
       "      <td>0.0</td>\n",
       "      <td>0.0</td>\n",
       "      <td>0.0</td>\n",
       "      <td>0.0</td>\n",
       "      <td>0.0</td>\n",
       "      <td>0.0</td>\n",
       "      <td>0.0</td>\n",
       "      <td>0.0</td>\n",
       "      <td>0.0</td>\n",
       "      <td>0.0</td>\n",
       "      <td>5.0</td>\n",
       "      <td>49</td>\n",
       "      <td>1</td>\n",
       "      <td>0</td>\n",
       "    </tr>\n",
       "    <tr>\n",
       "      <th>44</th>\n",
       "      <td>2010-11-02</td>\n",
       "      <td>1.0</td>\n",
       "      <td>0.0</td>\n",
       "      <td>0.0</td>\n",
       "      <td>0.0</td>\n",
       "      <td>0.0</td>\n",
       "      <td>0.0</td>\n",
       "      <td>0.0</td>\n",
       "      <td>0.0</td>\n",
       "      <td>0.0</td>\n",
       "      <td>5.0</td>\n",
       "      <td>0.0</td>\n",
       "      <td>0.0</td>\n",
       "      <td>0.0</td>\n",
       "      <td>10.0</td>\n",
       "      <td>49</td>\n",
       "      <td>1</td>\n",
       "      <td>1</td>\n",
       "    </tr>\n",
       "  </tbody>\n",
       "</table>\n",
       "</div>"
      ],
      "text/plain": [
       "         Date  Part ID  Feature_1  Feature_2  Feature_3  Feature_4  Feature_5  \\\n",
       "5  2010-02-02      1.0       15.5        4.5        0.0        0.0        0.0   \n",
       "19 2010-05-11      1.0        0.0        0.0        0.0        3.5        1.0   \n",
       "22 2010-06-01      1.0        0.0        0.0        0.0        0.0        0.0   \n",
       "43 2010-10-26      1.0        0.0        0.0        0.0        0.0        0.0   \n",
       "44 2010-11-02      1.0        0.0        0.0        0.0        0.0        0.0   \n",
       "\n",
       "    Feature_6  Feature_7  Feature_8  Feature_9  Feature_10  Feature_11  \\\n",
       "5         0.0        4.5        0.0        3.5         0.0         0.0   \n",
       "19        1.5        4.5        1.5        7.0         2.0         4.5   \n",
       "22        0.0        0.0        0.0        8.0         0.0         0.0   \n",
       "43        0.0        0.0        0.0        0.0         0.0         0.0   \n",
       "44        0.0        0.0        0.0        5.0         0.0         0.0   \n",
       "\n",
       "    Feature_12  Total Score  Cycle  response  predict  \n",
       "5          1.5         31.5     49         1        1  \n",
       "19         0.0         12.0     49         1        1  \n",
       "22         0.0          6.0     49         1        1  \n",
       "43         0.0          5.0     49         1        0  \n",
       "44         0.0         10.0     49         1        1  "
      ]
     },
     "execution_count": 14,
     "metadata": {},
     "output_type": "execute_result"
    }
   ],
   "source": [
    "df_resampled_filtered.head()"
   ]
  },
  {
   "cell_type": "markdown",
   "id": "336b127b",
   "metadata": {},
   "source": [
    "### Precision, Recall and F1 score"
   ]
  },
  {
   "cell_type": "code",
   "execution_count": 15,
   "id": "bbea1719",
   "metadata": {},
   "outputs": [
    {
     "name": "stdout",
     "output_type": "stream",
     "text": [
      "24/24 [==============================] - 0s 3ms/step\n",
      "Precision: 0.8450\n",
      "Recall: 0.8180\n",
      "F1 Score: 0.8313\n"
     ]
    }
   ],
   "source": [
    "y_test_true = y_test\n",
    "\n",
    "y_pred_test_classes = (model.predict(X_test_scaled) > 0.5).astype(\"int32\")\n",
    "\n",
    "precision = precision_score(y_test_true, y_pred_test_classes)\n",
    "recall = recall_score(y_test_true, y_pred_test_classes)\n",
    "f1 = f1_score(y_test_true, y_pred_test_classes)\n",
    "\n",
    "print(f'Precision: {precision:.4f}')\n",
    "print(f'Recall: {recall:.4f}')\n",
    "print(f'F1 Score: {f1:.4f}')\n"
   ]
  }
 ],
 "metadata": {
  "kernelspec": {
   "display_name": "Python 3 (ipykernel)",
   "language": "python",
   "name": "python3"
  },
  "language_info": {
   "codemirror_mode": {
    "name": "ipython",
    "version": 3
   },
   "file_extension": ".py",
   "mimetype": "text/x-python",
   "name": "python",
   "nbconvert_exporter": "python",
   "pygments_lexer": "ipython3",
   "version": "3.9.7"
  }
 },
 "nbformat": 4,
 "nbformat_minor": 5
}
