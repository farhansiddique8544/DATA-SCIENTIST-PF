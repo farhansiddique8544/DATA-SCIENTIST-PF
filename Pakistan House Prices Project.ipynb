{
 "cells": [
  {
   "cell_type": "code",
   "execution_count": 1,
   "id": "c9d776e3",
   "metadata": {},
   "outputs": [],
   "source": [
    "import pandas as pd\n",
    "import seaborn as sns\n",
    "import matplotlib.pyplot as plt\n",
    "from sklearn.model_selection import train_test_split\n",
    "from sklearn.linear_model import LinearRegression\n",
    "from sklearn.ensemble import RandomForestRegressor\n",
    "from sklearn.metrics import r2_score, mean_squared_error\n",
    "from math import sqrt\n",
    "from scipy.stats import f_oneway, chi2_contingency\n"
   ]
  },
  {
   "cell_type": "code",
   "execution_count": 2,
   "id": "7ebdc46c",
   "metadata": {},
   "outputs": [],
   "source": [
    "df = pd.read_csv('house_prices.csv')"
   ]
  },
  {
   "cell_type": "markdown",
   "id": "dc9cbe69",
   "metadata": {},
   "source": [
    "### What is the average price of properties in the dataset?"
   ]
  },
  {
   "cell_type": "markdown",
   "id": "329557f6",
   "metadata": {},
   "source": [
    "## Overview"
   ]
  },
  {
   "cell_type": "code",
   "execution_count": 3,
   "id": "6e5c543a",
   "metadata": {},
   "outputs": [
    {
     "name": "stdout",
     "output_type": "stream",
     "text": [
      "Average Price of Properties: Rs10375919.50\n"
     ]
    }
   ],
   "source": [
    "average_price = df['price'].mean()\n",
    "print(f\"Average Price of Properties: Rs{average_price:.2f}\")"
   ]
  },
  {
   "cell_type": "markdown",
   "id": "567f1ceb",
   "metadata": {},
   "source": [
    "### What is the distribution of property types?"
   ]
  },
  {
   "cell_type": "code",
   "execution_count": 4,
   "id": "ec69a401",
   "metadata": {},
   "outputs": [
    {
     "name": "stdout",
     "output_type": "stream",
     "text": [
      "\n",
      "Distribution of Property Types:\n",
      "House            58169\n",
      "Flat             26658\n",
      "Upper Portion     8539\n",
      "Lower Portion     5549\n",
      "Penthouse          255\n",
      "Room               241\n",
      "Farm House          88\n",
      "Name: property_type, dtype: int64\n"
     ]
    }
   ],
   "source": [
    "property_type_distribution = df['property_type'].value_counts()\n",
    "print(\"\\nDistribution of Property Types:\")\n",
    "print(property_type_distribution)"
   ]
  },
  {
   "cell_type": "markdown",
   "id": "c7d88338",
   "metadata": {},
   "source": [
    "### How many properties are listed for sale, and in which cities?"
   ]
  },
  {
   "cell_type": "code",
   "execution_count": 5,
   "id": "8978dabd",
   "metadata": {},
   "outputs": [
    {
     "name": "stdout",
     "output_type": "stream",
     "text": [
      "\n",
      "Properties listed for sale:\n",
      "Total properties for sale: 70947\n",
      "\n",
      "Properties for sale in each city:\n",
      "         city  properties_count\n",
      "0  Faisalabad              1611\n",
      "1   Islamabad              8794\n",
      "2     Karachi             27210\n",
      "3      Lahore             26221\n",
      "4  Rawalpindi              7111\n"
     ]
    }
   ],
   "source": [
    "properties_for_sale = df[df['purpose'] == 'For Sale']\n",
    " \n",
    "total_properties_for_sale = len(properties_for_sale)\n",
    "print(\"\\nProperties listed for sale:\")\n",
    "print(f\"Total properties for sale: {total_properties_for_sale}\")\n",
    "\n",
    "properties_by_city = properties_for_sale.groupby('city').size().reset_index(name='properties_count')\n",
    "print(\"\\nProperties for sale in each city:\")\n",
    "print(properties_by_city)\n"
   ]
  },
  {
   "cell_type": "markdown",
   "id": "0cdfa2a5",
   "metadata": {},
   "source": [
    "## Location Analysis:"
   ]
  },
  {
   "cell_type": "markdown",
   "id": "b74007d9",
   "metadata": {},
   "source": [
    "### Which locations have the highest and lowest average property prices?"
   ]
  },
  {
   "cell_type": "code",
   "execution_count": 6,
   "id": "a1e8916b",
   "metadata": {},
   "outputs": [
    {
     "name": "stdout",
     "output_type": "stream",
     "text": [
      "Highest average price location: TECH Society (Average Price: Rs42500000.00)\n",
      "Lowest average price location: Beaumont Road (Average Price: Rs16000.00)\n"
     ]
    }
   ],
   "source": [
    "average_price_by_location = df.groupby('location')['price'].mean().sort_values(ascending=False)\n",
    "highest_avg_price_location = average_price_by_location.idxmax()\n",
    "lowest_avg_price_location = average_price_by_location.idxmin()\n",
    "\n",
    "print(f\"Highest average price location: {highest_avg_price_location} (Average Price: Rs{average_price_by_location.max():.2f})\")\n",
    "print(f\"Lowest average price location: {lowest_avg_price_location} (Average Price: Rs{average_price_by_location.min():.2f})\")\n",
    "\n",
    "\n"
   ]
  },
  {
   "cell_type": "markdown",
   "id": "53bae96b",
   "metadata": {},
   "source": [
    "### What are the most popular locations based on the number of listings?"
   ]
  },
  {
   "cell_type": "code",
   "execution_count": 7,
   "id": "e791b7f6",
   "metadata": {},
   "outputs": [
    {
     "name": "stdout",
     "output_type": "stream",
     "text": [
      "\n",
      "Most popular locations based on the number of listings:\n",
      "DHA Defence               11787\n",
      "Bahria Town Karachi        6697\n",
      "Bahria Town Rawalpindi     5257\n",
      "Bahria Town                4437\n",
      "Gulistan-e-Jauhar          3532\n",
      "Name: location, dtype: int64\n"
     ]
    }
   ],
   "source": [
    "locations_by_listings = df['location'].value_counts()\n",
    "most_popular_locations = locations_by_listings.head(5)\n",
    "print(\"\\nMost popular locations based on the number of listings:\")\n",
    "print(most_popular_locations)"
   ]
  },
  {
   "cell_type": "markdown",
   "id": "8fe3f694",
   "metadata": {},
   "source": [
    "## Property Characteristics"
   ]
  },
  {
   "cell_type": "markdown",
   "id": "f398af45",
   "metadata": {},
   "source": [
    "### What is the average number of bedrooms and bathrooms for listed properties?"
   ]
  },
  {
   "cell_type": "code",
   "execution_count": 8,
   "id": "64988aa2",
   "metadata": {},
   "outputs": [
    {
     "name": "stdout",
     "output_type": "stream",
     "text": [
      "Average number of bedrooms: 3.35\n",
      "Average number of bathrooms: 3.53\n"
     ]
    }
   ],
   "source": [
    "average_bedrooms = df['bedrooms'].mean()\n",
    "average_bathrooms = df['baths'].mean()\n",
    "\n",
    "print(f\"Average number of bedrooms: {average_bedrooms:.2f}\")\n",
    "print(f\"Average number of bathrooms: {average_bathrooms:.2f}\")\n",
    "\n",
    "\n",
    "\n"
   ]
  },
  {
   "cell_type": "markdown",
   "id": "ed75ff64",
   "metadata": {},
   "source": [
    "### How does property size vary across different types and locations?"
   ]
  },
  {
   "cell_type": "code",
   "execution_count": 9,
   "id": "8e04f821",
   "metadata": {
    "scrolled": false
   },
   "outputs": [
    {
     "name": "stdout",
     "output_type": "stream",
     "text": [
      "      property_type        location  Area_in_Marla\n",
      "0        Farm House      7th Avenue      60.000000\n",
      "1        Farm House     Adiala Road     160.000000\n",
      "2        Farm House   Al-Kabir Town       4.000000\n",
      "3        Farm House            B-17      20.000000\n",
      "4        Farm House  Bahria Orchard      80.000000\n",
      "...             ...             ...            ...\n",
      "2438  Upper Portion      Wapda Town      10.000000\n",
      "2439  Upper Portion       Westridge      14.363636\n",
      "2440  Upper Portion      Youhanabad       2.500000\n",
      "2441  Upper Portion   Yousaf Colony       9.000000\n",
      "2442  Upper Portion         Zamzama      20.000000\n",
      "\n",
      "[2443 rows x 3 columns]\n"
     ]
    }
   ],
   "source": [
    "average_area_by_type_location = df.groupby(['property_type', 'location'])['Area_in_Marla'].mean().reset_index()\n",
    "print(average_area_by_type_location)"
   ]
  },
  {
   "cell_type": "markdown",
   "id": "f477e034",
   "metadata": {},
   "source": [
    "## Price Analysis"
   ]
  },
  {
   "cell_type": "markdown",
   "id": "2f27b10d",
   "metadata": {},
   "source": [
    "###  Are there outliers or high-value properties in the dataset?\n"
   ]
  },
  {
   "cell_type": "code",
   "execution_count": 10,
   "id": "08c98642",
   "metadata": {},
   "outputs": [
    {
     "data": {
      "image/png": "[encoded data removed]",
      "text/plain": [
       "<Figure size 432x288 with 1 Axes>"
      ]
     },
     "metadata": {
      "needs_background": "light"
     },
     "output_type": "display_data"
    },
    {
     "name": "stdout",
     "output_type": "stream",
     "text": [
      "\n",
      "Correlation Matrix:\n",
      "             price  bedrooms     baths\n",
      "price     1.000000  0.464393  0.496222\n",
      "bedrooms  0.464393  1.000000  0.863885\n",
      "baths     0.496222  0.863885  1.000000\n"
     ]
    },
    {
     "data": {
      "image/png": "[encoded data removed]",
      "text/plain": [
       "<Figure size 432x288 with 2 Axes>"
      ]
     },
     "metadata": {
      "needs_background": "light"
     },
     "output_type": "display_data"
    }
   ],
   "source": [
    "# outliers\n",
    "sns.boxplot(x='price', data=df)\n",
    "plt.title(\"Distribution of Property Prices\")\n",
    "plt.show()\n",
    "\n",
    "correlation_matrix = df[['price', 'bedrooms', 'baths']].corr()\n",
    "\n",
    "print(\"\\nCorrelation Matrix:\")\n",
    "print(correlation_matrix)\n",
    "\n",
    "\n",
    "sns.heatmap(correlation_matrix, annot=True, cmap='coolwarm', fmt=\".2f\")\n",
    "plt.title(\"Correlation Matrix: Property Price, Bedrooms, and Bathrooms\")\n",
    "plt.show()\n"
   ]
  },
  {
   "cell_type": "markdown",
   "id": "05de121b",
   "metadata": {},
   "source": [
    "## City Comparison"
   ]
  },
  {
   "cell_type": "markdown",
   "id": "5b248831",
   "metadata": {},
   "source": [
    "### Question: How do property prices differ between cities?\n"
   ]
  },
  {
   "cell_type": "code",
   "execution_count": 11,
   "id": "d081960c",
   "metadata": {},
   "outputs": [
    {
     "data": {
      "image/png": "[encoded data removed]",
      "text/plain": [
       "<Figure size 432x288 with 1 Axes>"
      ]
     },
     "metadata": {
      "needs_background": "light"
     },
     "output_type": "display_data"
    }
   ],
   "source": [
    "sns.boxplot(x='city', y='price', data=df)\n",
    "plt.title(\"Property Prices by City\")\n",
    "plt.xticks(rotation=45)\n",
    "plt.show()"
   ]
  },
  {
   "cell_type": "markdown",
   "id": "c3f34305",
   "metadata": {},
   "source": [
    "### Are there specific property types more common in certain cities?"
   ]
  },
  {
   "cell_type": "code",
   "execution_count": 12,
   "id": "857d1496",
   "metadata": {},
   "outputs": [
    {
     "name": "stdout",
     "output_type": "stream",
     "text": [
      "property_type  Farm House       Flat      House  Lower Portion  Penthouse  \\\n",
      "city                                                                        \n",
      "Faisalabad       0.089646   0.717167  88.614971       3.809951   0.089646   \n",
      "Islamabad        0.089916  22.559906  46.828216      12.884953   0.166344   \n",
      "Karachi          0.053958  50.593536  34.624723       4.877786   0.553068   \n",
      "Lahore           0.144922   5.106594  94.363297       0.137295   0.015255   \n",
      "Rawalpindi       0.068155  13.051627  69.850060       6.423582   0.059635   \n",
      "\n",
      "property_type      Room  Upper Portion  \n",
      "city                                    \n",
      "Faisalabad     0.448229       6.230390  \n",
      "Islamabad      0.683361      16.787304  \n",
      "Karachi        0.183457       9.113473  \n",
      "Lahore         0.019069       0.213569  \n",
      "Rawalpindi     0.051116      10.495826  \n"
     ]
    }
   ],
   "source": [
    "property_type_by_city = df.groupby(['city', 'property_type']).size().unstack(fill_value=0)\n",
    "property_type_by_city_percentage = property_type_by_city.div(property_type_by_city.sum(axis=1), axis=0) * 100\n",
    "\n",
    "print(property_type_by_city_percentage)\n"
   ]
  },
  {
   "cell_type": "markdown",
   "id": "b79b7df1",
   "metadata": {},
   "source": [
    "## Purpose of Listings:\n"
   ]
  },
  {
   "cell_type": "markdown",
   "id": "3ed7eead",
   "metadata": {},
   "source": [
    "### Distribution of properties based on purpose\n"
   ]
  },
  {
   "cell_type": "code",
   "execution_count": 13,
   "id": "cd7c0c0a",
   "metadata": {},
   "outputs": [
    {
     "name": "stdout",
     "output_type": "stream",
     "text": [
      "For Sale    70947\n",
      "For Rent    28552\n",
      "Name: purpose, dtype: int64\n"
     ]
    }
   ],
   "source": [
    "purpose_distribution = df['purpose'].value_counts()\n",
    "\n",
    "print(purpose_distribution)"
   ]
  },
  {
   "cell_type": "markdown",
   "id": "e99a4476",
   "metadata": {},
   "source": [
    "### How does the average price vary between different purposes?"
   ]
  },
  {
   "cell_type": "code",
   "execution_count": 14,
   "id": "2d39c3a6",
   "metadata": {},
   "outputs": [
    {
     "name": "stdout",
     "output_type": "stream",
     "text": [
      "\n",
      "Average price by purpose:\n",
      "purpose\n",
      "For Sale    1.451733e+07\n",
      "For Rent    8.518902e+04\n",
      "Name: price, dtype: float64\n"
     ]
    },
    {
     "data": {
      "image/png": "[encoded data removed]",
      "text/plain": [
       "<Figure size 432x288 with 1 Axes>"
      ]
     },
     "metadata": {
      "needs_background": "light"
     },
     "output_type": "display_data"
    },
    {
     "data": {
      "image/png": "[encoded data removed]",
      "text/plain": [
       "<Figure size 432x288 with 1 Axes>"
      ]
     },
     "metadata": {
      "needs_background": "light"
     },
     "output_type": "display_data"
    }
   ],
   "source": [
    "average_price_by_purpose = df.groupby('purpose')['price'].mean().sort_values(ascending=False)\n",
    "\n",
    "print(\"\\nAverage price by purpose:\")\n",
    "print(average_price_by_purpose)\n",
    "\n",
    "# Visualization\n",
    "sns.countplot(x='purpose', data=df)\n",
    "plt.title(\"Distribution of Properties based on Purpose\")\n",
    "plt.show()\n",
    "\n",
    "sns.barplot(x='purpose', y='price', data=df, ci=None)\n",
    "plt.title(\"Average Price by Purpose\")\n",
    "plt.show()\n",
    "\n"
   ]
  },
  {
   "cell_type": "markdown",
   "id": "fb64d618",
   "metadata": {},
   "source": [
    "## Specific Property Types:\n"
   ]
  },
  {
   "cell_type": "markdown",
   "id": "bb33b0bd",
   "metadata": {},
   "source": [
    "### What is the average price and size of flats in the dataset?"
   ]
  },
  {
   "cell_type": "code",
   "execution_count": 15,
   "id": "cf78b15a",
   "metadata": {},
   "outputs": [
    {
     "name": "stdout",
     "output_type": "stream",
     "text": [
      "Average price of flats: Rsnan\n",
      "Average size of flats: nan Marla\n"
     ]
    }
   ],
   "source": [
    "average_price_flat = df[df['property_type'] == 'flat']['price'].mean()\n",
    "average_size_flat = df[df['property_type'] == 'flat']['Area_in_Marla'].mean()\n",
    "\n",
    "print(f\"Average price of flats: Rs{average_price_flat:.2f}\")\n",
    "print(f\"Average size of flats: {average_size_flat:.2f} Marla\")\n"
   ]
  },
  {
   "cell_type": "markdown",
   "id": "4beb6605",
   "metadata": {},
   "source": [
    "### Are there trends or patterns specific to flats, houses, or other property types?"
   ]
  },
  {
   "cell_type": "code",
   "execution_count": 16,
   "id": "3334d9dd",
   "metadata": {},
   "outputs": [
    {
     "data": {
      "image/png": "[encoded data removed]",
      "text/plain": [
       "<Figure size 432x288 with 1 Axes>"
      ]
     },
     "metadata": {
      "needs_background": "light"
     },
     "output_type": "display_data"
    },
    {
     "data": {
      "image/png": "[encoded data removed]",
      "text/plain": [
       "<Figure size 432x288 with 1 Axes>"
      ]
     },
     "metadata": {
      "needs_background": "light"
     },
     "output_type": "display_data"
    }
   ],
   "source": [
    "sns.scatterplot(x='Area_in_Marla', y='price', hue='property_type', data=df)\n",
    "plt.title(\"Property Type Trends: Size vs. Price\")\n",
    "plt.show()\n",
    "\n",
    "sns.boxplot(x='property_type', y='price', data=df)\n",
    "plt.title(\"Price Distribution by Property Type\")\n",
    "plt.show()\n"
   ]
  },
  {
   "cell_type": "markdown",
   "id": "395ac66d",
   "metadata": {},
   "source": [
    "## Popular Locations and Property Types:"
   ]
  },
  {
   "cell_type": "code",
   "execution_count": 17,
   "id": "f4f4a084",
   "metadata": {},
   "outputs": [
    {
     "name": "stdout",
     "output_type": "stream",
     "text": [
      "\n",
      "Popular locations based on the number of listings:\n",
      "DHA Defence               11787\n",
      "Bahria Town Karachi        6697\n",
      "Bahria Town Rawalpindi     5257\n",
      "Bahria Town                4437\n",
      "Gulistan-e-Jauhar          3532\n",
      "Name: location, dtype: int64\n",
      "\n",
      "Property types distribution in popular locations:\n",
      "House            18437\n",
      "Flat             10091\n",
      "Upper Portion     1972\n",
      "Lower Portion     1104\n",
      "Room                61\n",
      "Penthouse           41\n",
      "Farm House           4\n",
      "Name: property_type, dtype: int64\n"
     ]
    },
    {
     "data": {
      "image/png": "[encoded data removed]",
      "text/plain": [
       "<Figure size 432x288 with 1 Axes>"
      ]
     },
     "metadata": {
      "needs_background": "light"
     },
     "output_type": "display_data"
    }
   ],
   "source": [
    "locations_by_listings = df['location'].value_counts()\n",
    "popular_locations = locations_by_listings.head(5)\n",
    "\n",
    "print(\"\\nPopular locations based on the number of listings:\")\n",
    "print(popular_locations)\n",
    "\n",
    "# Are certain property types more prevalent in popular locations?\n",
    "property_types_in_popular_locations = df[df['location'].isin(popular_locations.index)]['property_type'].value_counts()\n",
    "\n",
    "print(\"\\nProperty types distribution in popular locations:\")\n",
    "print(property_types_in_popular_locations)\n",
    "\n",
    "\n",
    "sns.countplot(x='property_type', data=df[df['location'].isin(popular_locations.index)])\n",
    "plt.title(\"Property Types Distribution in Popular Locations\")\n",
    "plt.show()\n"
   ]
  },
  {
   "cell_type": "markdown",
   "id": "b366e3ea",
   "metadata": {},
   "source": [
    "## Testing of Hypothesis:"
   ]
  },
  {
   "cell_type": "code",
   "execution_count": 18,
   "id": "e0c24d3b",
   "metadata": {},
   "outputs": [
    {
     "name": "stdout",
     "output_type": "stream",
     "text": [
      "There is a significant difference in average price across different cities.\n"
     ]
    }
   ],
   "source": [
    "flats_df = df[df['property_type'] == 'Flat']\n",
    "\n",
    "# ANOVA test\n",
    "anova_results = f_oneway(*[flats_df[flats_df['city'] == city]['price'] for city in flats_df['city'].unique()])\n",
    "\n",
    "if anova_results.pvalue < 0.05:\n",
    "    print(\"There is a significant difference in average price across different cities.\")\n",
    "else:\n",
    "    print(\"There is no significant difference in average price across different cities.\")\n",
    "\n"
   ]
  },
  {
   "cell_type": "code",
   "execution_count": 19,
   "id": "3abefa97",
   "metadata": {},
   "outputs": [
    {
     "name": "stdout",
     "output_type": "stream",
     "text": [
      "\n",
      "Association between purpose and property type:\n",
      "property_type  Farm House   Flat  House  Lower Portion  Penthouse  Room  \\\n",
      "purpose                                                                   \n",
      "For Rent               13   7275   9147           4889         71   229   \n",
      "For Sale               75  19383  49022            660        184    12   \n",
      "Total                  88  26658  58169           5549        255   241   \n",
      "\n",
      "property_type  Upper Portion  Total  \n",
      "purpose                              \n",
      "For Rent                6928  28552  \n",
      "For Sale                1611  70947  \n",
      "Total                   8539  99499  \n"
     ]
    }
   ],
   "source": [
    "# Is there any association between purpose and property type?\n",
    "association_table = pd.crosstab(df['purpose'], df['property_type'], margins=True, margins_name='Total')\n",
    "\n",
    "print(\"\\nAssociation between purpose and property type:\")\n",
    "print(association_table)"
   ]
  },
  {
   "cell_type": "code",
   "execution_count": 20,
   "id": "de23c5e4",
   "metadata": {},
   "outputs": [
    {
     "name": "stdout",
     "output_type": "stream",
     "text": [
      "There is a significant association between purpose and property type.\n"
     ]
    }
   ],
   "source": [
    "# Perform chi-square test of independence\n",
    "contingency_table = pd.crosstab(df['purpose'], df['property_type'])\n",
    "chi2, p, _, _ = chi2_contingency(contingency_table)\n",
    "\n",
    "if p < 0.05:\n",
    "    print(\"There is a significant association between purpose and property type.\")\n",
    "else:\n",
    "    print(\"There is no significant association between purpose and property type.\")\n"
   ]
  },
  {
   "cell_type": "markdown",
   "id": "a6cc2bef",
   "metadata": {},
   "source": [
    "## Predictive Modeling:"
   ]
  },
  {
   "cell_type": "code",
   "execution_count": 21,
   "id": "968cb0e6",
   "metadata": {},
   "outputs": [
    {
     "name": "stdout",
     "output_type": "stream",
     "text": [
      "R-squared (R2): -922385505381862784.0000\n",
      "Root Mean Squared Error (RMSE): 10275059879753562.00\n"
     ]
    }
   ],
   "source": [
    "# One-hot encoding\n",
    "df = pd.get_dummies(df, columns=['location', 'property_type', 'city', 'purpose'], drop_first=True)\n",
    "\n",
    "\n",
    "X = df.drop(columns=['price']) \n",
    "y = df['price'] \n",
    "\n",
    "X_train, X_test, y_train, y_test = train_test_split(X, y, test_size=0.2, random_state=42)\n",
    "\n",
    "\n",
    "linear_reg_model = LinearRegression()\n",
    "linear_reg_model.fit(X_train, y_train)\n",
    "\n",
    "\n",
    "# Predictions\n",
    "linear_reg_predictions = linear_reg_model.predict(X_test)\n",
    "\n",
    "\n",
    "import pandas as pd\n",
    "from sklearn.model_selection import train_test_split\n",
    "from sklearn.linear_model import LinearRegression\n",
    "from sklearn.metrics import r2_score, mean_squared_error\n",
    "\n",
    "df = pd.read_csv('house_prices.csv')\n",
    "\n",
    "# Select features and target variable\n",
    "X = df[['location', 'bedrooms', 'Area_in_Marla']]\n",
    "y = df['price']\n",
    "\n",
    "\n",
    "X = pd.get_dummies(X, columns=['location'], drop_first=True)\n",
    "\n",
    "X_train, X_test, y_train, y_test = train_test_split(X, y, test_size=0.2, random_state=42)\n",
    "\n",
    "model = LinearRegression()\n",
    "model.fit(X_train, y_train)\n",
    "\n",
    "predictions = model.predict(X_test)\n",
    "\n",
    "# Evaluation\n",
    "r2 = r2_score(y_test, predictions)\n",
    "rmse = mean_squared_error(y_test, predictions, squared=False)  # RMSE\n",
    "print(f\"R-squared (R2): {r2:.4f}\")\n",
    "print(f\"Root Mean Squared Error (RMSE): {rmse:.2f}\")\n"
   ]
  },
  {
   "cell_type": "code",
   "execution_count": 22,
   "id": "6d194145",
   "metadata": {},
   "outputs": [
    {
     "data": {
      "text/plain": [
       "RandomForestRegressor()"
      ]
     },
     "execution_count": 22,
     "metadata": {},
     "output_type": "execute_result"
    }
   ],
   "source": [
    "# Random Forest Regression model\n",
    "random_forest_model = RandomForestRegressor()\n",
    "random_forest_model.fit(X_train, y_train)\n"
   ]
  },
  {
   "cell_type": "code",
   "execution_count": 23,
   "id": "3128744b",
   "metadata": {},
   "outputs": [],
   "source": [
    "random_forest_predictions = random_forest_model.predict(X_test)"
   ]
  },
  {
   "cell_type": "code",
   "execution_count": 24,
   "id": "9cb1f11b",
   "metadata": {},
   "outputs": [],
   "source": [
    "# Evaluate performance\n",
    "def evaluate_model(predictions, model_name):\n",
    "    r2 = r2_score(y_test, predictions)\n",
    "    rmse = sqrt(mean_squared_error(y_test, predictions))\n",
    "    print(f\"\\nPerformance of {model_name} Model:\")\n",
    "    print(f\"R-squared (R2): {r2:.4f}\")\n",
    "    print(f\"Root Mean Squared Error (RMSE): {rmse:.2f}\")\n"
   ]
  },
  {
   "cell_type": "code",
   "execution_count": 25,
   "id": "299a7cca",
   "metadata": {},
   "outputs": [
    {
     "name": "stdout",
     "output_type": "stream",
     "text": [
      "\n",
      "Performance of RandomForestRegressor() Model:\n",
      "R-squared (R2): 0.5474\n",
      "Root Mean Squared Error (RMSE): 7197282.44\n"
     ]
    }
   ],
   "source": [
    "evaluate_model(random_forest_predictions, random_forest_model)"
   ]
  }
 ],
 "metadata": {
  "kernelspec": {
   "display_name": "Python 3 (ipykernel)",
   "language": "python",
   "name": "python3"
  },
  "language_info": {
   "codemirror_mode": {
    "name": "ipython",
    "version": 3
   },
   "file_extension": ".py",
   "mimetype": "text/x-python",
   "name": "python",
   "nbconvert_exporter": "python",
   "pygments_lexer": "ipython3",
   "version": "3.9.7"
  }
 },
 "nbformat": 4,
 "nbformat_minor": 5
}
