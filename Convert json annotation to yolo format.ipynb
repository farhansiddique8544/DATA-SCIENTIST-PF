{
 "cells": [
  {
   "cell_type": "code",
   "execution_count": 1,
   "id": "87717cb5",
   "metadata": {},
   "outputs": [
    {
     "name": "stdout",
     "output_type": "stream",
     "text": [
      "Requirement already satisfied: labelImg in c:\\users\\dell\\anaconda3\\lib\\site-packages (1.8.6)\n",
      "Requirement already satisfied: lxml in c:\\users\\dell\\anaconda3\\lib\\site-packages (from labelImg) (4.6.3)\n",
      "Requirement already satisfied: pyqt5 in c:\\users\\dell\\anaconda3\\lib\\site-packages (from labelImg) (5.15.9)\n",
      "Requirement already satisfied: PyQt5-Qt5>=5.15.2 in c:\\users\\dell\\anaconda3\\lib\\site-packages (from pyqt5->labelImg) (5.15.2)\n",
      "Requirement already satisfied: PyQt5-sip<13,>=12.11 in c:\\users\\dell\\anaconda3\\lib\\site-packages (from pyqt5->labelImg) (12.11.1)\n",
      "Note: you may need to restart the kernel to use updated packages.\n"
     ]
    }
   ],
   "source": [
    "pip install labelImg"
   ]
  },
  {
   "cell_type": "code",
   "execution_count": 2,
   "id": "1e761971",
   "metadata": {},
   "outputs": [],
   "source": [
    "import cv2\n",
    "import json \n",
    "import os\n",
    "import labelImg"
   ]
  },
  {
   "cell_type": "code",
   "execution_count": 3,
   "id": "bf008822",
   "metadata": {},
   "outputs": [
    {
     "name": "stdout",
     "output_type": "stream",
     "text": [
      "dict_keys(['_via_settings', '_via_img_metadata', '_via_attributes'])\n"
     ]
    }
   ],
   "source": [
    "with open('cat_dog_annotations.json') as f:\n",
    "    data = json.load(f)\n",
    "\n",
    "print(data.keys())"
   ]
  },
  {
   "cell_type": "code",
   "execution_count": 4,
   "id": "f9c851aa",
   "metadata": {},
   "outputs": [
    {
     "name": "stdout",
     "output_type": "stream",
     "text": [
      "dict_keys(['region', 'file'])\n"
     ]
    }
   ],
   "source": [
    "with open('cat_dog_annotations.json') as f:\n",
    "    data = json.load(f)\n",
    "\n",
    "_via_attributes = data['_via_attributes']\n",
    "print(_via_attributes.keys())"
   ]
  },
  {
   "cell_type": "code",
   "execution_count": 9,
   "id": "2f43a2e4",
   "metadata": {},
   "outputs": [],
   "source": [
    "class_names = ['cat', 'dog']\n",
    "\n",
    "\n",
    "if not os.path.exists('yolo_annotation'):\n",
    "    os.makedirs('yolo_annotation')\n",
    "\n",
    "\n",
    "for img_key, img_values in data['_via_img_metadata'].items():\n",
    "\n",
    "    filename = img_values['filename']\n",
    "    image = cv2.imread(filename)\n",
    "    \n",
    "    img_height, img_width = image.shape[:2]\n",
    "    \n",
    "    with open(os.path.join('yolo_annotation', os.path.splitext(filename)[0] + '.txt'), 'w') as f:\n",
    "      \n",
    "        for obj in img_values['regions']:\n",
    "            \n",
    "            class_label = list(obj['region_attributes']['class'])[0]\n",
    "            bbox = obj['shape_attributes']\n",
    "\n",
    "           \n",
    "            x_center = (bbox['x'] + bbox['width'] / 2) / img_width\n",
    "            y_center = (bbox['y'] + bbox['height'] / 2) / img_height\n",
    "            width = bbox['width'] / img_width\n",
    "            height = bbox['height'] / img_height\n",
    "\n",
    "\n",
    "            class_index = class_names.index(class_label)\n",
    "            f.write(f\"{class_index} {x_center} {y_center} {width} {height}\\n\")\n",
    "            "
   ]
  },
  {
   "cell_type": "code",
   "execution_count": 10,
   "id": "98174d14",
   "metadata": {},
   "outputs": [],
   "source": [
    "\n",
    "with open('cat_dog_yolo.txt', 'w') as f:\n",
    "    f.write('\\n'.join(data))"
   ]
  }
 ],
 "metadata": {
  "kernelspec": {
   "display_name": "Python 3 (ipykernel)",
   "language": "python",
   "name": "python3"
  },
  "language_info": {
   "codemirror_mode": {
    "name": "ipython",
    "version": 3
   },
   "file_extension": ".py",
   "mimetype": "text/x-python",
   "name": "python",
   "nbconvert_exporter": "python",
   "pygments_lexer": "ipython3",
   "version": "3.9.7"
  }
 },
 "nbformat": 4,
 "nbformat_minor": 5
}
