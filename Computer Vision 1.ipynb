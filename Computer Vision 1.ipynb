{
 "cells": [
  {
   "cell_type": "code",
   "execution_count": 8,
   "id": "6e429eed",
   "metadata": {},
   "outputs": [],
   "source": [
    "import cv2"
   ]
  },
  {
   "cell_type": "code",
   "execution_count": 14,
   "id": "333bb846",
   "metadata": {},
   "outputs": [
    {
     "data": {
      "text/plain": [
       "-1"
      ]
     },
     "execution_count": 14,
     "metadata": {},
     "output_type": "execute_result"
    }
   ],
   "source": [
    "# Load input image in grayscale\n",
    "img = cv2.imread('rebecca.jpg', cv2.IMREAD_GRAYSCALE)\n",
    "\n",
    "# Apply thresholding to segment foreground text from the background\n",
    "_,thresh = cv2.threshold(img, 0, 255, cv2.THRESH_BINARY_INV+cv2.THRESH_OTSU)\n",
    "\n",
    "# Morphological Operations\n",
    "kernel = cv2.getStructuringElement(cv2.MORPH_RECT, (3,3))\n",
    "open = cv2.morphologyEx(thresh, cv2.MORPH_OPEN, kernel)\n",
    "closing = cv2.morphologyEx(opening, cv2.MORPH_CLOSE, kernel)\n",
    "\n",
    "blur = cv2.medianBlur(closing, 3)\n",
    "\n",
    "# Adding text\n",
    "text = 'This is rebecca'\n",
    "font = cv2.FONT_HERSHEY_SIMPLEX\n",
    "font_scale = 1\n",
    "color = (255, 0, 0)\n",
    "thickness = 3\n",
    "text_size, _ = cv2.getTextSize(text, font, font_scale, thickness)\n",
    "text_x = (img.shape[1] - text_size[0]) // 2\n",
    "text_y = (img.shape[0] + text_size[1]) // 2\n",
    "cv2.putText(blur, text, (text_x, text_y), font, font_scale, color, thickness)\n",
    "\n",
    "cv2.imwrite('rebecca2.jpg', blur)\n",
    "cv2.waitKey(0)\n",
    "\n"
   ]
  }
 ],
 "metadata": {
  "kernelspec": {
   "display_name": "Python 3 (ipykernel)",
   "language": "python",
   "name": "python3"
  },
  "language_info": {
   "codemirror_mode": {
    "name": "ipython",
    "version": 3
   },
   "file_extension": ".py",
   "mimetype": "text/x-python",
   "name": "python",
   "nbconvert_exporter": "python",
   "pygments_lexer": "ipython3",
   "version": "3.9.7"
  }
 },
 "nbformat": 4,
 "nbformat_minor": 5
}
